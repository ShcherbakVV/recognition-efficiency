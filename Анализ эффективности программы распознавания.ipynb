{
 "cells": [
  {
   "cell_type": "markdown",
   "id": "2b3b34d2-4501-4d42-a854-f531fa6681ee",
   "metadata": {
    "id": "2b3b34d2-4501-4d42-a854-f531fa6681ee"
   },
   "source": [
    "### Описание задачи\n"
   ]
  },
  {
   "cell_type": "markdown",
   "id": "48e196fc-876c-45ea-beeb-744d4e4807b3",
   "metadata": {
    "id": "48e196fc-876c-45ea-beeb-744d4e4807b3"
   },
   "source": [
    "В большом городе N существуют магазины одной сети. Чтобы поддерживать самые низкие цены во всей сети, сотрудники магазинов посещают конкурентов и фотографируют пересекающиеся с их магазином товары конкурента.  \n",
    "Некая программа собирает все фотографии, распознает товары и цены, возвращает сотруднику. Распознавание товаров происходит с помощью моделей машинного обучения. Первая модель распознает товар, вторая - цену. Далее сотрудник, в свою очередь, подтверждает то, что распознала модель или привязывает к другому товару, если модель распознала некорректно. Далее все данные записываются в БД.  \n",
    "\n",
    "  \n",
    "Главная метрика, по которой происходит оценка эффективности программы - **общая метрика распознавания** - означает, что распознался и товар, и цена. Чтобы оценить эффективность каждой модели, можно рассчитать распознавание только цены или распознавание только продукта.  \n",
    "  \n",
    "   \n",
    "<br>   \n",
    "В системе произошел сбой и все данные для обучения _модели распознавания товаров_ потерялись.  \n",
    "Нужно заново собрать список товаров для обучения модели и обосновать свой выбор. "
   ]
  },
  {
   "cell_type": "markdown",
   "id": "df19c10a-f8b3-4079-a46b-ddf776657766",
   "metadata": {
    "id": "df19c10a-f8b3-4079-a46b-ddf776657766"
   },
   "source": [
    "# PYTHON"
   ]
  },
  {
   "cell_type": "markdown",
   "id": "562426b9-6a0b-4960-824e-357894770033",
   "metadata": {
    "id": "562426b9-6a0b-4960-824e-357894770033"
   },
   "source": [
    "### Разведочный анализ данных\n",
    "\n",
    "Ознакомимся с представленным датасетом - выгрузкой данных из БД, изучим все столбцы и найдем закономерности в данных"
   ]
  },
  {
   "cell_type": "markdown",
   "id": "cwzRC2DlhHMd",
   "metadata": {
    "id": "cwzRC2DlhHMd"
   },
   "source": [
    "<div class=\"alert alert-block alert-info\">\n",
    "<b>Примечание</b> \n",
    "<br>Два последних символа в целой части значений полей predicted_product_price и confirmed_product_price - копейки\n",
    "</div>"
   ]
  },
  {
   "cell_type": "markdown",
   "id": "8bed22ac-9e50-44f5-9072-689565720177",
   "metadata": {
    "id": "8bed22ac-9e50-44f5-9072-689565720177"
   },
   "source": [
    "### Описательная аналитика\n",
    "\n",
    "Посчитаем отдельные метрики распознавания и общую:\n",
    "1. confirmed_product_id == predicted_product_id - модель правильно распознала товар\n",
    "2. confirmed_product_price == predicted_product_price - модель правильно распознала цену \n",
    "\n",
    "Проверим все следующие гипотезы:  \n",
    "- Все конкуренты одинаково распознаются  \n",
    "- В распознавании цены есть проблемы  \n",
    "- Поле dt_create влияет на общую метрику распознавания  \n",
    "- Общая метрика распознавания зависит от магазина сотрудника  "
   ]
  },
  {
   "cell_type": "code",
   "execution_count": 1,
   "id": "21287a7b",
   "metadata": {},
   "outputs": [],
   "source": [
    "import pandas as pd\n",
    "import matplotlib.pyplot as plt\n",
    "import seaborn as sns"
   ]
  },
  {
   "cell_type": "code",
   "execution_count": 2,
   "id": "acd1bcc3",
   "metadata": {
    "scrolled": true
   },
   "outputs": [],
   "source": [
    "df = pd.read_csv('Test_dataset.csv')"
   ]
  },
  {
   "cell_type": "markdown",
   "id": "edb687af",
   "metadata": {},
   "source": [
    "### EDA"
   ]
  },
  {
   "cell_type": "markdown",
   "id": "da208941",
   "metadata": {},
   "source": [
    "Посмотрим типы данных в колонках"
   ]
  },
  {
   "cell_type": "code",
   "execution_count": 10,
   "id": "5eb88f97",
   "metadata": {
    "scrolled": false
   },
   "outputs": [
    {
     "data": {
      "text/plain": [
       "dt_create                  datetime64[ns]\n",
       "shop_id                             int64\n",
       "competitor_id                       int64\n",
       "prod_cat_name                      object\n",
       "prod_group_name                    object\n",
       "predicted_product_id              float64\n",
       "predicted_product_price           float64\n",
       "confirmed_product_id                int64\n",
       "confirmed_product_price             int64\n",
       "day_name                           object\n",
       "dtype: object"
      ]
     },
     "execution_count": 10,
     "metadata": {},
     "output_type": "execute_result"
    }
   ],
   "source": [
    "df.dtypes"
   ]
  },
  {
   "cell_type": "markdown",
   "id": "680e4de4",
   "metadata": {},
   "source": [
    "Приведём колонку 'dt_create' к типу данных \"дата\""
   ]
  },
  {
   "cell_type": "code",
   "execution_count": 11,
   "id": "f3bbf6ba",
   "metadata": {
    "scrolled": true
   },
   "outputs": [],
   "source": [
    "df['dt_create'] = pd.to_datetime(df['dt_create'])"
   ]
  },
  {
   "cell_type": "markdown",
   "id": "1cb79d81",
   "metadata": {},
   "source": [
    "Проверяем"
   ]
  },
  {
   "cell_type": "code",
   "execution_count": 12,
   "id": "627412ca",
   "metadata": {
    "scrolled": true
   },
   "outputs": [
    {
     "data": {
      "text/plain": [
       "dt_create                  datetime64[ns]\n",
       "shop_id                             int64\n",
       "competitor_id                       int64\n",
       "prod_cat_name                      object\n",
       "prod_group_name                    object\n",
       "predicted_product_id              float64\n",
       "predicted_product_price           float64\n",
       "confirmed_product_id                int64\n",
       "confirmed_product_price             int64\n",
       "day_name                           object\n",
       "dtype: object"
      ]
     },
     "execution_count": 12,
     "metadata": {},
     "output_type": "execute_result"
    }
   ],
   "source": [
    "df.dtypes"
   ]
  },
  {
   "cell_type": "markdown",
   "id": "d94f2a03",
   "metadata": {},
   "source": [
    "Посмотрим на данные"
   ]
  },
  {
   "cell_type": "code",
   "execution_count": 13,
   "id": "ff893251",
   "metadata": {
    "scrolled": true
   },
   "outputs": [
    {
     "data": {
      "text/html": [
       "<div>\n",
       "<style scoped>\n",
       "    .dataframe tbody tr th:only-of-type {\n",
       "        vertical-align: middle;\n",
       "    }\n",
       "\n",
       "    .dataframe tbody tr th {\n",
       "        vertical-align: top;\n",
       "    }\n",
       "\n",
       "    .dataframe thead th {\n",
       "        text-align: right;\n",
       "    }\n",
       "</style>\n",
       "<table border=\"1\" class=\"dataframe\">\n",
       "  <thead>\n",
       "    <tr style=\"text-align: right;\">\n",
       "      <th></th>\n",
       "      <th>dt_create</th>\n",
       "      <th>shop_id</th>\n",
       "      <th>competitor_id</th>\n",
       "      <th>prod_cat_name</th>\n",
       "      <th>prod_group_name</th>\n",
       "      <th>predicted_product_id</th>\n",
       "      <th>predicted_product_price</th>\n",
       "      <th>confirmed_product_id</th>\n",
       "      <th>confirmed_product_price</th>\n",
       "      <th>day_name</th>\n",
       "    </tr>\n",
       "  </thead>\n",
       "  <tbody>\n",
       "    <tr>\n",
       "      <th>0</th>\n",
       "      <td>2023-01-30</td>\n",
       "      <td>3505</td>\n",
       "      <td>1</td>\n",
       "      <td>алкоголь</td>\n",
       "      <td>вина, винные напитки</td>\n",
       "      <td>9291.0</td>\n",
       "      <td>43999.0</td>\n",
       "      <td>9291</td>\n",
       "      <td>43999</td>\n",
       "      <td>Monday</td>\n",
       "    </tr>\n",
       "    <tr>\n",
       "      <th>1</th>\n",
       "      <td>2023-01-30</td>\n",
       "      <td>1843</td>\n",
       "      <td>21</td>\n",
       "      <td>алкоголь</td>\n",
       "      <td>слабоалкогольные напитки</td>\n",
       "      <td>2020719.0</td>\n",
       "      <td>6999.0</td>\n",
       "      <td>10653</td>\n",
       "      <td>6999</td>\n",
       "      <td>Monday</td>\n",
       "    </tr>\n",
       "    <tr>\n",
       "      <th>2</th>\n",
       "      <td>2023-01-30</td>\n",
       "      <td>966</td>\n",
       "      <td>0</td>\n",
       "      <td>алкоголь</td>\n",
       "      <td>вина, винные напитки</td>\n",
       "      <td>9377.0</td>\n",
       "      <td>53999.0</td>\n",
       "      <td>9377</td>\n",
       "      <td>53999</td>\n",
       "      <td>Monday</td>\n",
       "    </tr>\n",
       "    <tr>\n",
       "      <th>3</th>\n",
       "      <td>2023-01-30</td>\n",
       "      <td>4468</td>\n",
       "      <td>1</td>\n",
       "      <td>алкоголь</td>\n",
       "      <td>коньяк, арманьяк, бренди, кальвадос</td>\n",
       "      <td>10413.0</td>\n",
       "      <td>15999.0</td>\n",
       "      <td>10413</td>\n",
       "      <td>15999</td>\n",
       "      <td>Monday</td>\n",
       "    </tr>\n",
       "    <tr>\n",
       "      <th>4</th>\n",
       "      <td>2023-01-30</td>\n",
       "      <td>1843</td>\n",
       "      <td>21</td>\n",
       "      <td>алкоголь</td>\n",
       "      <td>водка</td>\n",
       "      <td>9814.0</td>\n",
       "      <td>32999.0</td>\n",
       "      <td>9814</td>\n",
       "      <td>32999</td>\n",
       "      <td>Monday</td>\n",
       "    </tr>\n",
       "  </tbody>\n",
       "</table>\n",
       "</div>"
      ],
      "text/plain": [
       "   dt_create  shop_id  competitor_id prod_cat_name  \\\n",
       "0 2023-01-30     3505              1      алкоголь   \n",
       "1 2023-01-30     1843             21      алкоголь   \n",
       "2 2023-01-30      966              0      алкоголь   \n",
       "3 2023-01-30     4468              1      алкоголь   \n",
       "4 2023-01-30     1843             21      алкоголь   \n",
       "\n",
       "                       prod_group_name  predicted_product_id  \\\n",
       "0                 вина, винные напитки                9291.0   \n",
       "1             слабоалкогольные напитки             2020719.0   \n",
       "2                 вина, винные напитки                9377.0   \n",
       "3  коньяк, арманьяк, бренди, кальвадос               10413.0   \n",
       "4                                водка                9814.0   \n",
       "\n",
       "   predicted_product_price  confirmed_product_id  confirmed_product_price  \\\n",
       "0                  43999.0                  9291                    43999   \n",
       "1                   6999.0                 10653                     6999   \n",
       "2                  53999.0                  9377                    53999   \n",
       "3                  15999.0                 10413                    15999   \n",
       "4                  32999.0                  9814                    32999   \n",
       "\n",
       "  day_name  \n",
       "0   Monday  \n",
       "1   Monday  \n",
       "2   Monday  \n",
       "3   Monday  \n",
       "4   Monday  "
      ]
     },
     "execution_count": 13,
     "metadata": {},
     "output_type": "execute_result"
    }
   ],
   "source": [
    "df.head()"
   ]
  },
  {
   "cell_type": "markdown",
   "id": "f94c645c",
   "metadata": {},
   "source": [
    "Посмотрим кол-во строк и столбцов"
   ]
  },
  {
   "cell_type": "code",
   "execution_count": 14,
   "id": "c220beef",
   "metadata": {},
   "outputs": [
    {
     "data": {
      "text/plain": [
       "(150000, 10)"
      ]
     },
     "execution_count": 14,
     "metadata": {},
     "output_type": "execute_result"
    }
   ],
   "source": [
    "df.shape"
   ]
  },
  {
   "cell_type": "markdown",
   "id": "a9a9e2e6",
   "metadata": {},
   "source": [
    "Сколько у нас уникальных дат"
   ]
  },
  {
   "cell_type": "code",
   "execution_count": 15,
   "id": "2f988b00",
   "metadata": {},
   "outputs": [
    {
     "data": {
      "text/plain": [
       "15"
      ]
     },
     "execution_count": 15,
     "metadata": {},
     "output_type": "execute_result"
    }
   ],
   "source": [
    "df.dt_create.nunique()"
   ]
  },
  {
   "cell_type": "markdown",
   "id": "d728d3fc",
   "metadata": {},
   "source": [
    "Сколько у нас уникальных магазинов"
   ]
  },
  {
   "cell_type": "code",
   "execution_count": 16,
   "id": "30271d90",
   "metadata": {},
   "outputs": [
    {
     "data": {
      "text/plain": [
       "5321"
      ]
     },
     "execution_count": 16,
     "metadata": {},
     "output_type": "execute_result"
    }
   ],
   "source": [
    "df.shop_id.nunique()"
   ]
  },
  {
   "cell_type": "markdown",
   "id": "34b058e9",
   "metadata": {},
   "source": [
    "Сколько у нас уникальных конкурентов"
   ]
  },
  {
   "cell_type": "code",
   "execution_count": 17,
   "id": "367b0634",
   "metadata": {
    "scrolled": true
   },
   "outputs": [
    {
     "data": {
      "text/plain": [
       "380"
      ]
     },
     "execution_count": 17,
     "metadata": {},
     "output_type": "execute_result"
    }
   ],
   "source": [
    "df.competitor_id.nunique()"
   ]
  },
  {
   "cell_type": "markdown",
   "id": "74466020",
   "metadata": {},
   "source": [
    "Сколько у нас уникальных продуктовых категорий"
   ]
  },
  {
   "cell_type": "code",
   "execution_count": 18,
   "id": "5b601f60",
   "metadata": {},
   "outputs": [
    {
     "data": {
      "text/plain": [
       "7"
      ]
     },
     "execution_count": 18,
     "metadata": {},
     "output_type": "execute_result"
    }
   ],
   "source": [
    "df.prod_cat_name.nunique()"
   ]
  },
  {
   "cell_type": "markdown",
   "id": "ce7d59e6",
   "metadata": {},
   "source": [
    "Посмотрим на категории"
   ]
  },
  {
   "cell_type": "code",
   "execution_count": 19,
   "id": "13c95396",
   "metadata": {},
   "outputs": [
    {
     "data": {
      "text/plain": [
       "array(['алкоголь', 'продукты', 'пиво', 'нон-фуд',\n",
       "       'товары для мониторинга', 'сигареты', 'rrp и атп'], dtype=object)"
      ]
     },
     "execution_count": 19,
     "metadata": {},
     "output_type": "execute_result"
    }
   ],
   "source": [
    "df.prod_cat_name.unique()"
   ]
  },
  {
   "cell_type": "markdown",
   "id": "5f73d7e7",
   "metadata": {},
   "source": [
    "Сколько у нас уникальных продуктовых групп"
   ]
  },
  {
   "cell_type": "code",
   "execution_count": 20,
   "id": "2990ab55",
   "metadata": {
    "scrolled": true
   },
   "outputs": [
    {
     "data": {
      "text/plain": [
       "36"
      ]
     },
     "execution_count": 20,
     "metadata": {},
     "output_type": "execute_result"
    }
   ],
   "source": [
    "df.prod_group_name.nunique()"
   ]
  },
  {
   "cell_type": "markdown",
   "id": "c70d02ba",
   "metadata": {},
   "source": [
    "Сколько у нас уникальных разных продуктов"
   ]
  },
  {
   "cell_type": "code",
   "execution_count": 21,
   "id": "7e6a89af",
   "metadata": {
    "scrolled": true
   },
   "outputs": [
    {
     "data": {
      "text/plain": [
       "1609"
      ]
     },
     "execution_count": 21,
     "metadata": {},
     "output_type": "execute_result"
    }
   ],
   "source": [
    "df.confirmed_product_id.nunique()"
   ]
  },
  {
   "cell_type": "markdown",
   "id": "333305d0",
   "metadata": {},
   "source": [
    "Проверим таблицу на наличие пропусков"
   ]
  },
  {
   "cell_type": "code",
   "execution_count": 22,
   "id": "a2ca6f15",
   "metadata": {
    "scrolled": true
   },
   "outputs": [
    {
     "data": {
      "text/plain": [
       "dt_create                     0\n",
       "shop_id                       0\n",
       "competitor_id                 0\n",
       "prod_cat_name                 0\n",
       "prod_group_name               0\n",
       "predicted_product_id       3894\n",
       "predicted_product_price    3961\n",
       "confirmed_product_id          0\n",
       "confirmed_product_price       0\n",
       "day_name                      0\n",
       "dtype: int64"
      ]
     },
     "execution_count": 22,
     "metadata": {},
     "output_type": "execute_result"
    }
   ],
   "source": [
    "df.isna().sum()"
   ]
  },
  {
   "cell_type": "markdown",
   "id": "396e6921",
   "metadata": {},
   "source": [
    "Видимо, не всегда приложению удаётся отсканировать цену и/или распознать продукт.\n",
    "\n",
    "Посчитаем, сколько приходится сканирований на каждого конкурента."
   ]
  },
  {
   "cell_type": "code",
   "execution_count": 23,
   "id": "016638f8",
   "metadata": {
    "scrolled": true
   },
   "outputs": [],
   "source": [
    "df_1 = df.groupby(\"competitor_id\", as_index = False) \\\n",
    "    .agg({\"shop_id\": \"count\"}) \\\n",
    "    .sort_values(\"shop_id\", ascending=False) \\\n",
    "    .rename(columns = {'shop_id':'quantity_photo'})"
   ]
  },
  {
   "cell_type": "markdown",
   "id": "500c4af3",
   "metadata": {},
   "source": [
    "Посмотрим на описательную статистику: разброс фотографий от одной до сорока одной тысячи при серднем в 400 фтографий на конкурента"
   ]
  },
  {
   "cell_type": "code",
   "execution_count": 24,
   "id": "f5974d76",
   "metadata": {},
   "outputs": [
    {
     "data": {
      "text/plain": [
       "count      380.000000\n",
       "mean       394.736842\n",
       "std       3275.832606\n",
       "min          1.000000\n",
       "25%          3.000000\n",
       "50%         13.500000\n",
       "75%         60.000000\n",
       "max      41045.000000\n",
       "Name: quantity_photo, dtype: float64"
      ]
     },
     "execution_count": 24,
     "metadata": {},
     "output_type": "execute_result"
    }
   ],
   "source": [
    "df_1.quantity_photo.describe()"
   ]
  },
  {
   "cell_type": "markdown",
   "id": "8ed88233",
   "metadata": {},
   "source": [
    "Выведем топ-10 конкурентов по кол-ву сканирований."
   ]
  },
  {
   "cell_type": "code",
   "execution_count": 25,
   "id": "807536c2",
   "metadata": {},
   "outputs": [
    {
     "data": {
      "text/html": [
       "<div>\n",
       "<style scoped>\n",
       "    .dataframe tbody tr th:only-of-type {\n",
       "        vertical-align: middle;\n",
       "    }\n",
       "\n",
       "    .dataframe tbody tr th {\n",
       "        vertical-align: top;\n",
       "    }\n",
       "\n",
       "    .dataframe thead th {\n",
       "        text-align: right;\n",
       "    }\n",
       "</style>\n",
       "<table border=\"1\" class=\"dataframe\">\n",
       "  <thead>\n",
       "    <tr style=\"text-align: right;\">\n",
       "      <th></th>\n",
       "      <th>competitor_id</th>\n",
       "      <th>quantity_photo</th>\n",
       "    </tr>\n",
       "  </thead>\n",
       "  <tbody>\n",
       "    <tr>\n",
       "      <th>0</th>\n",
       "      <td>0</td>\n",
       "      <td>41045</td>\n",
       "    </tr>\n",
       "    <tr>\n",
       "      <th>1</th>\n",
       "      <td>1</td>\n",
       "      <td>40729</td>\n",
       "    </tr>\n",
       "    <tr>\n",
       "      <th>2</th>\n",
       "      <td>2</td>\n",
       "      <td>26965</td>\n",
       "    </tr>\n",
       "    <tr>\n",
       "      <th>3</th>\n",
       "      <td>3</td>\n",
       "      <td>4335</td>\n",
       "    </tr>\n",
       "    <tr>\n",
       "      <th>4</th>\n",
       "      <td>4</td>\n",
       "      <td>3122</td>\n",
       "    </tr>\n",
       "    <tr>\n",
       "      <th>5</th>\n",
       "      <td>5</td>\n",
       "      <td>3051</td>\n",
       "    </tr>\n",
       "    <tr>\n",
       "      <th>6</th>\n",
       "      <td>6</td>\n",
       "      <td>2015</td>\n",
       "    </tr>\n",
       "    <tr>\n",
       "      <th>7</th>\n",
       "      <td>7</td>\n",
       "      <td>1302</td>\n",
       "    </tr>\n",
       "    <tr>\n",
       "      <th>8</th>\n",
       "      <td>8</td>\n",
       "      <td>1241</td>\n",
       "    </tr>\n",
       "    <tr>\n",
       "      <th>9</th>\n",
       "      <td>9</td>\n",
       "      <td>975</td>\n",
       "    </tr>\n",
       "  </tbody>\n",
       "</table>\n",
       "</div>"
      ],
      "text/plain": [
       "   competitor_id  quantity_photo\n",
       "0              0           41045\n",
       "1              1           40729\n",
       "2              2           26965\n",
       "3              3            4335\n",
       "4              4            3122\n",
       "5              5            3051\n",
       "6              6            2015\n",
       "7              7            1302\n",
       "8              8            1241\n",
       "9              9             975"
      ]
     },
     "execution_count": 25,
     "metadata": {},
     "output_type": "execute_result"
    }
   ],
   "source": [
    "df_1.head(10)"
   ]
  },
  {
   "cell_type": "markdown",
   "id": "2274d055",
   "metadata": {},
   "source": [
    "Есть сильное смещение в тройку конкурентов: 0, 1 и 2 - 72% от всех сканирований:"
   ]
  },
  {
   "cell_type": "code",
   "execution_count": 26,
   "id": "8331ccbd",
   "metadata": {},
   "outputs": [
    {
     "data": {
      "text/plain": [
       "72.49266666666668"
      ]
     },
     "execution_count": 26,
     "metadata": {},
     "output_type": "execute_result"
    }
   ],
   "source": [
    "(df_1.head(3).quantity_photo.sum()/df.shape[0])*100"
   ]
  },
  {
   "cell_type": "markdown",
   "id": "c4d5527d",
   "metadata": {},
   "source": [
    "Данные у нас всего за 15 дней, посмотрим на распределение по дням недели.\n",
    "\n",
    "Создадим колонку с днями недели."
   ]
  },
  {
   "cell_type": "code",
   "execution_count": 27,
   "id": "0019b103",
   "metadata": {},
   "outputs": [],
   "source": [
    "df['day_name'] = df.dt_create.dt.day_name()"
   ]
  },
  {
   "cell_type": "markdown",
   "id": "825c5d96",
   "metadata": {},
   "source": [
    "Похоже, у сторудников, делающих фото, пятидневка:"
   ]
  },
  {
   "cell_type": "code",
   "execution_count": 28,
   "id": "9118c77e",
   "metadata": {
    "scrolled": true
   },
   "outputs": [
    {
     "data": {
      "text/plain": [
       "array(['Monday', 'Tuesday', 'Wednesday', 'Thursday', 'Friday'],\n",
       "      dtype=object)"
      ]
     },
     "execution_count": 28,
     "metadata": {},
     "output_type": "execute_result"
    }
   ],
   "source": [
    "df.day_name.unique()"
   ]
  },
  {
   "cell_type": "markdown",
   "id": "22da8428",
   "metadata": {},
   "source": [
    "Посчитаем кол-во сканирований по дням недели"
   ]
  },
  {
   "cell_type": "code",
   "execution_count": 29,
   "id": "352708dd",
   "metadata": {
    "scrolled": true
   },
   "outputs": [
    {
     "data": {
      "text/html": [
       "<div>\n",
       "<style scoped>\n",
       "    .dataframe tbody tr th:only-of-type {\n",
       "        vertical-align: middle;\n",
       "    }\n",
       "\n",
       "    .dataframe tbody tr th {\n",
       "        vertical-align: top;\n",
       "    }\n",
       "\n",
       "    .dataframe thead th {\n",
       "        text-align: right;\n",
       "    }\n",
       "</style>\n",
       "<table border=\"1\" class=\"dataframe\">\n",
       "  <thead>\n",
       "    <tr style=\"text-align: right;\">\n",
       "      <th></th>\n",
       "      <th>day_name</th>\n",
       "      <th>quantity_photo</th>\n",
       "    </tr>\n",
       "  </thead>\n",
       "  <tbody>\n",
       "    <tr>\n",
       "      <th>2</th>\n",
       "      <td>Thursday</td>\n",
       "      <td>33007</td>\n",
       "    </tr>\n",
       "    <tr>\n",
       "      <th>3</th>\n",
       "      <td>Tuesday</td>\n",
       "      <td>30446</td>\n",
       "    </tr>\n",
       "    <tr>\n",
       "      <th>0</th>\n",
       "      <td>Friday</td>\n",
       "      <td>29973</td>\n",
       "    </tr>\n",
       "    <tr>\n",
       "      <th>1</th>\n",
       "      <td>Monday</td>\n",
       "      <td>29887</td>\n",
       "    </tr>\n",
       "    <tr>\n",
       "      <th>4</th>\n",
       "      <td>Wednesday</td>\n",
       "      <td>26687</td>\n",
       "    </tr>\n",
       "  </tbody>\n",
       "</table>\n",
       "</div>"
      ],
      "text/plain": [
       "    day_name  quantity_photo\n",
       "2   Thursday           33007\n",
       "3    Tuesday           30446\n",
       "0     Friday           29973\n",
       "1     Monday           29887\n",
       "4  Wednesday           26687"
      ]
     },
     "execution_count": 29,
     "metadata": {},
     "output_type": "execute_result"
    }
   ],
   "source": [
    "df_2 = df.groupby(\"day_name\", as_index = False) \\\n",
    "  .agg({\"dt_create\": \"count\"}) \\\n",
    "  .sort_values(\"dt_create\", ascending=False) \\\n",
    "  .rename(columns = {'dt_create':'quantity_photo'})\n",
    "df_2"
   ]
  },
  {
   "cell_type": "markdown",
   "id": "a0ca6552",
   "metadata": {},
   "source": [
    "И посмотрим:"
   ]
  },
  {
   "cell_type": "code",
   "execution_count": 32,
   "id": "8984ccd0",
   "metadata": {},
   "outputs": [
    {
     "data": {
      "text/plain": [
       "<Axes: xlabel='day_name', ylabel='quantity_photo'>"
      ]
     },
     "execution_count": 32,
     "metadata": {},
     "output_type": "execute_result"
    },
    {
     "data": {
      "image/png": "[encoded data removed]",
      "text/plain": [
       "<Figure size 640x480 with 1 Axes>"
      ]
     },
     "metadata": {},
     "output_type": "display_data"
    }
   ],
   "source": [
    "sns.barplot(x=\"day_name\", y=\"quantity_photo\", data=df_2, order=[\"Monday\", \"Tuesday\", \"Wednesday\", \"Thursday\", \"Friday\"])"
   ]
  },
  {
   "cell_type": "markdown",
   "id": "e223779f",
   "metadata": {},
   "source": [
    "Принципиальной разницы по дням недели нет.\n",
    "\n",
    "Посмотрим на самые сканируемые категории продуктов."
   ]
  },
  {
   "cell_type": "code",
   "execution_count": 33,
   "id": "de6b57c0",
   "metadata": {},
   "outputs": [
    {
     "data": {
      "text/html": [
       "<div>\n",
       "<style scoped>\n",
       "    .dataframe tbody tr th:only-of-type {\n",
       "        vertical-align: middle;\n",
       "    }\n",
       "\n",
       "    .dataframe tbody tr th {\n",
       "        vertical-align: top;\n",
       "    }\n",
       "\n",
       "    .dataframe thead th {\n",
       "        text-align: right;\n",
       "    }\n",
       "</style>\n",
       "<table border=\"1\" class=\"dataframe\">\n",
       "  <thead>\n",
       "    <tr style=\"text-align: right;\">\n",
       "      <th></th>\n",
       "      <th>prod_cat_name</th>\n",
       "      <th>quantity_photo</th>\n",
       "    </tr>\n",
       "  </thead>\n",
       "  <tbody>\n",
       "    <tr>\n",
       "      <th>1</th>\n",
       "      <td>алкоголь</td>\n",
       "      <td>69424</td>\n",
       "    </tr>\n",
       "    <tr>\n",
       "      <th>4</th>\n",
       "      <td>продукты</td>\n",
       "      <td>44200</td>\n",
       "    </tr>\n",
       "    <tr>\n",
       "      <th>3</th>\n",
       "      <td>пиво</td>\n",
       "      <td>35837</td>\n",
       "    </tr>\n",
       "    <tr>\n",
       "      <th>2</th>\n",
       "      <td>нон-фуд</td>\n",
       "      <td>266</td>\n",
       "    </tr>\n",
       "    <tr>\n",
       "      <th>5</th>\n",
       "      <td>сигареты</td>\n",
       "      <td>177</td>\n",
       "    </tr>\n",
       "    <tr>\n",
       "      <th>6</th>\n",
       "      <td>товары для мониторинга</td>\n",
       "      <td>70</td>\n",
       "    </tr>\n",
       "    <tr>\n",
       "      <th>0</th>\n",
       "      <td>rrp и атп</td>\n",
       "      <td>26</td>\n",
       "    </tr>\n",
       "  </tbody>\n",
       "</table>\n",
       "</div>"
      ],
      "text/plain": [
       "            prod_cat_name  quantity_photo\n",
       "1                алкоголь           69424\n",
       "4                продукты           44200\n",
       "3                    пиво           35837\n",
       "2                 нон-фуд             266\n",
       "5                сигареты             177\n",
       "6  товары для мониторинга              70\n",
       "0               rrp и атп              26"
      ]
     },
     "execution_count": 33,
     "metadata": {},
     "output_type": "execute_result"
    }
   ],
   "source": [
    "df.groupby(\"prod_cat_name\", as_index = False) \\\n",
    "  .agg({\"dt_create\": \"count\"}) \\\n",
    "  .sort_values(\"dt_create\", ascending=False) \\\n",
    "  .rename(columns = {'dt_create':'quantity_photo'})"
   ]
  },
  {
   "cell_type": "markdown",
   "id": "12abbc99",
   "metadata": {},
   "source": [
    "Есть сильное смещение в топ-3 категорий, где катеория \"алкоголь\" сильно популярнее, чем другие. Что и не удивительно."
   ]
  },
  {
   "cell_type": "markdown",
   "id": "7d9d3570",
   "metadata": {},
   "source": [
    "### Описательная аналитика"
   ]
  },
  {
   "cell_type": "markdown",
   "id": "e5c29504",
   "metadata": {},
   "source": [
    "Заведём колонку с булевыми значениями, где true  - все сканирования с совпавшими id товара"
   ]
  },
  {
   "cell_type": "code",
   "execution_count": 34,
   "id": "257bb20d",
   "metadata": {},
   "outputs": [],
   "source": [
    "df[\"coincidence_prod\"] = df.predicted_product_id == df.confirmed_product_id"
   ]
  },
  {
   "cell_type": "markdown",
   "id": "b31c904e",
   "metadata": {},
   "source": [
    "Аналогично проделаем с ценниками"
   ]
  },
  {
   "cell_type": "code",
   "execution_count": 35,
   "id": "0ee7149b",
   "metadata": {},
   "outputs": [],
   "source": [
    "df[\"coincidence_price\"] = df.predicted_product_price == df.confirmed_product_price"
   ]
  },
  {
   "cell_type": "markdown",
   "id": "7d361345",
   "metadata": {},
   "source": [
    "Примем за 1 - совпадения, за 0 - несовпадения"
   ]
  },
  {
   "cell_type": "code",
   "execution_count": 36,
   "id": "b5aee5d2",
   "metadata": {},
   "outputs": [],
   "source": [
    "df = df.replace({'coincidence_prod' : { True : 1, False : 0}}, ) \\\n",
    "  .replace({'coincidence_price' : { True : 1, False : 0}})"
   ]
  },
  {
   "cell_type": "markdown",
   "id": "36537552",
   "metadata": {},
   "source": [
    "Теперь складываем и видим три расклада: 0 - не совпало ни одно, 1 - совпало что-то одно, 2 - совпали оба критерия"
   ]
  },
  {
   "cell_type": "code",
   "execution_count": 37,
   "id": "3f7afc16",
   "metadata": {},
   "outputs": [],
   "source": [
    "df[\"coincidence_all\"] = df.coincidence_price + df.coincidence_prod"
   ]
  },
  {
   "cell_type": "markdown",
   "id": "97e705be",
   "metadata": {},
   "source": [
    "Расклад \"совпало что-то одно\" не так интересен, потому что мы отдельно выводим успешные сканирования и цены, и продукта по отдельности. Т.о. принимаем за 1 случаи с совпадениями по двум критериям, а за 0 случаи без сопадений и случаи, где совпал один критерий."
   ]
  },
  {
   "cell_type": "code",
   "execution_count": 38,
   "id": "864cb463",
   "metadata": {},
   "outputs": [],
   "source": [
    "df = df.replace({'coincidence_all' : { 2 : 1, 1: 0}})"
   ]
  },
  {
   "cell_type": "markdown",
   "id": "0909b1f8",
   "metadata": {},
   "source": [
    "Красота:"
   ]
  },
  {
   "cell_type": "code",
   "execution_count": 39,
   "id": "38d204be",
   "metadata": {},
   "outputs": [
    {
     "data": {
      "text/html": [
       "<div>\n",
       "<style scoped>\n",
       "    .dataframe tbody tr th:only-of-type {\n",
       "        vertical-align: middle;\n",
       "    }\n",
       "\n",
       "    .dataframe tbody tr th {\n",
       "        vertical-align: top;\n",
       "    }\n",
       "\n",
       "    .dataframe thead th {\n",
       "        text-align: right;\n",
       "    }\n",
       "</style>\n",
       "<table border=\"1\" class=\"dataframe\">\n",
       "  <thead>\n",
       "    <tr style=\"text-align: right;\">\n",
       "      <th></th>\n",
       "      <th>dt_create</th>\n",
       "      <th>shop_id</th>\n",
       "      <th>competitor_id</th>\n",
       "      <th>prod_cat_name</th>\n",
       "      <th>prod_group_name</th>\n",
       "      <th>predicted_product_id</th>\n",
       "      <th>predicted_product_price</th>\n",
       "      <th>confirmed_product_id</th>\n",
       "      <th>confirmed_product_price</th>\n",
       "      <th>day_name</th>\n",
       "      <th>coincidence_prod</th>\n",
       "      <th>coincidence_price</th>\n",
       "      <th>coincidence_all</th>\n",
       "    </tr>\n",
       "  </thead>\n",
       "  <tbody>\n",
       "    <tr>\n",
       "      <th>0</th>\n",
       "      <td>2023-01-30</td>\n",
       "      <td>3505</td>\n",
       "      <td>1</td>\n",
       "      <td>алкоголь</td>\n",
       "      <td>вина, винные напитки</td>\n",
       "      <td>9291.0</td>\n",
       "      <td>43999.0</td>\n",
       "      <td>9291</td>\n",
       "      <td>43999</td>\n",
       "      <td>Monday</td>\n",
       "      <td>1</td>\n",
       "      <td>1</td>\n",
       "      <td>1</td>\n",
       "    </tr>\n",
       "    <tr>\n",
       "      <th>1</th>\n",
       "      <td>2023-01-30</td>\n",
       "      <td>1843</td>\n",
       "      <td>21</td>\n",
       "      <td>алкоголь</td>\n",
       "      <td>слабоалкогольные напитки</td>\n",
       "      <td>2020719.0</td>\n",
       "      <td>6999.0</td>\n",
       "      <td>10653</td>\n",
       "      <td>6999</td>\n",
       "      <td>Monday</td>\n",
       "      <td>0</td>\n",
       "      <td>1</td>\n",
       "      <td>0</td>\n",
       "    </tr>\n",
       "    <tr>\n",
       "      <th>2</th>\n",
       "      <td>2023-01-30</td>\n",
       "      <td>966</td>\n",
       "      <td>0</td>\n",
       "      <td>алкоголь</td>\n",
       "      <td>вина, винные напитки</td>\n",
       "      <td>9377.0</td>\n",
       "      <td>53999.0</td>\n",
       "      <td>9377</td>\n",
       "      <td>53999</td>\n",
       "      <td>Monday</td>\n",
       "      <td>1</td>\n",
       "      <td>1</td>\n",
       "      <td>1</td>\n",
       "    </tr>\n",
       "    <tr>\n",
       "      <th>3</th>\n",
       "      <td>2023-01-30</td>\n",
       "      <td>4468</td>\n",
       "      <td>1</td>\n",
       "      <td>алкоголь</td>\n",
       "      <td>коньяк, арманьяк, бренди, кальвадос</td>\n",
       "      <td>10413.0</td>\n",
       "      <td>15999.0</td>\n",
       "      <td>10413</td>\n",
       "      <td>15999</td>\n",
       "      <td>Monday</td>\n",
       "      <td>1</td>\n",
       "      <td>1</td>\n",
       "      <td>1</td>\n",
       "    </tr>\n",
       "    <tr>\n",
       "      <th>4</th>\n",
       "      <td>2023-01-30</td>\n",
       "      <td>1843</td>\n",
       "      <td>21</td>\n",
       "      <td>алкоголь</td>\n",
       "      <td>водка</td>\n",
       "      <td>9814.0</td>\n",
       "      <td>32999.0</td>\n",
       "      <td>9814</td>\n",
       "      <td>32999</td>\n",
       "      <td>Monday</td>\n",
       "      <td>1</td>\n",
       "      <td>1</td>\n",
       "      <td>1</td>\n",
       "    </tr>\n",
       "  </tbody>\n",
       "</table>\n",
       "</div>"
      ],
      "text/plain": [
       "   dt_create  shop_id  competitor_id prod_cat_name  \\\n",
       "0 2023-01-30     3505              1      алкоголь   \n",
       "1 2023-01-30     1843             21      алкоголь   \n",
       "2 2023-01-30      966              0      алкоголь   \n",
       "3 2023-01-30     4468              1      алкоголь   \n",
       "4 2023-01-30     1843             21      алкоголь   \n",
       "\n",
       "                       prod_group_name  predicted_product_id  \\\n",
       "0                 вина, винные напитки                9291.0   \n",
       "1             слабоалкогольные напитки             2020719.0   \n",
       "2                 вина, винные напитки                9377.0   \n",
       "3  коньяк, арманьяк, бренди, кальвадос               10413.0   \n",
       "4                                водка                9814.0   \n",
       "\n",
       "   predicted_product_price  confirmed_product_id  confirmed_product_price  \\\n",
       "0                  43999.0                  9291                    43999   \n",
       "1                   6999.0                 10653                     6999   \n",
       "2                  53999.0                  9377                    53999   \n",
       "3                  15999.0                 10413                    15999   \n",
       "4                  32999.0                  9814                    32999   \n",
       "\n",
       "  day_name  coincidence_prod  coincidence_price  coincidence_all  \n",
       "0   Monday                 1                  1                1  \n",
       "1   Monday                 0                  1                0  \n",
       "2   Monday                 1                  1                1  \n",
       "3   Monday                 1                  1                1  \n",
       "4   Monday                 1                  1                1  "
      ]
     },
     "execution_count": 39,
     "metadata": {},
     "output_type": "execute_result"
    }
   ],
   "source": [
    "df.head()"
   ]
  },
  {
   "cell_type": "markdown",
   "id": "93d4fe3f",
   "metadata": {},
   "source": [
    "Теперь подготовим данные для вычисления метрик:"
   ]
  },
  {
   "cell_type": "code",
   "execution_count": 40,
   "id": "bc40192b",
   "metadata": {},
   "outputs": [],
   "source": [
    "df_3 = df.groupby(\"competitor_id\", as_index = False) \\\n",
    "  .agg({\"shop_id\": \"count\", \"coincidence_prod\": \"sum\", \"coincidence_price\": \"sum\", \"coincidence_all\": \"sum\"}) \\\n",
    "  .rename(columns = {'shop_id':'quantity_photo'})"
   ]
  },
  {
   "cell_type": "markdown",
   "id": "0c57b6a2",
   "metadata": {},
   "source": [
    "Вычисляем метрики:\n",
    "\n",
    "0. \"coincidence_prod\" - распознавание продукта: доля распознанных фото товаров\n",
    "1. \"coincidence_price\" - распознавание цены: доля распознанных фото цены\n",
    "2. \"coincidence_all\" - общее распознавание: доля распознанных фото и товаров, и ценников"
   ]
  },
  {
   "cell_type": "code",
   "execution_count": 41,
   "id": "dae19de4",
   "metadata": {},
   "outputs": [],
   "source": [
    "df_3[\"coincidence_prod\"] = round(df_3.coincidence_prod / df_3.quantity_photo, 2)\n",
    "df_3[\"coincidence_price\"] = round(df_3.coincidence_price / df_3.quantity_photo, 2)\n",
    "df_3[\"coincidence_all\"] = round(df_3.coincidence_all / df_3.quantity_photo, 2)"
   ]
  },
  {
   "cell_type": "code",
   "execution_count": 42,
   "id": "5bd075c3",
   "metadata": {
    "scrolled": false
   },
   "outputs": [
    {
     "data": {
      "text/html": [
       "<div>\n",
       "<style scoped>\n",
       "    .dataframe tbody tr th:only-of-type {\n",
       "        vertical-align: middle;\n",
       "    }\n",
       "\n",
       "    .dataframe tbody tr th {\n",
       "        vertical-align: top;\n",
       "    }\n",
       "\n",
       "    .dataframe thead th {\n",
       "        text-align: right;\n",
       "    }\n",
       "</style>\n",
       "<table border=\"1\" class=\"dataframe\">\n",
       "  <thead>\n",
       "    <tr style=\"text-align: right;\">\n",
       "      <th></th>\n",
       "      <th>competitor_id</th>\n",
       "      <th>quantity_photo</th>\n",
       "      <th>coincidence_prod</th>\n",
       "      <th>coincidence_price</th>\n",
       "      <th>coincidence_all</th>\n",
       "    </tr>\n",
       "  </thead>\n",
       "  <tbody>\n",
       "    <tr>\n",
       "      <th>0</th>\n",
       "      <td>0</td>\n",
       "      <td>41045</td>\n",
       "      <td>0.92</td>\n",
       "      <td>0.95</td>\n",
       "      <td>0.91</td>\n",
       "    </tr>\n",
       "    <tr>\n",
       "      <th>1</th>\n",
       "      <td>1</td>\n",
       "      <td>40729</td>\n",
       "      <td>0.94</td>\n",
       "      <td>0.96</td>\n",
       "      <td>0.92</td>\n",
       "    </tr>\n",
       "    <tr>\n",
       "      <th>2</th>\n",
       "      <td>2</td>\n",
       "      <td>26965</td>\n",
       "      <td>0.95</td>\n",
       "      <td>0.94</td>\n",
       "      <td>0.92</td>\n",
       "    </tr>\n",
       "    <tr>\n",
       "      <th>3</th>\n",
       "      <td>3</td>\n",
       "      <td>4335</td>\n",
       "      <td>0.95</td>\n",
       "      <td>0.83</td>\n",
       "      <td>0.80</td>\n",
       "    </tr>\n",
       "    <tr>\n",
       "      <th>4</th>\n",
       "      <td>4</td>\n",
       "      <td>3122</td>\n",
       "      <td>0.93</td>\n",
       "      <td>0.89</td>\n",
       "      <td>0.84</td>\n",
       "    </tr>\n",
       "  </tbody>\n",
       "</table>\n",
       "</div>"
      ],
      "text/plain": [
       "   competitor_id  quantity_photo  coincidence_prod  coincidence_price  \\\n",
       "0              0           41045              0.92               0.95   \n",
       "1              1           40729              0.94               0.96   \n",
       "2              2           26965              0.95               0.94   \n",
       "3              3            4335              0.95               0.83   \n",
       "4              4            3122              0.93               0.89   \n",
       "\n",
       "   coincidence_all  \n",
       "0             0.91  \n",
       "1             0.92  \n",
       "2             0.92  \n",
       "3             0.80  \n",
       "4             0.84  "
      ]
     },
     "execution_count": 42,
     "metadata": {},
     "output_type": "execute_result"
    }
   ],
   "source": [
    "df_3.head()"
   ]
  },
  {
   "cell_type": "markdown",
   "id": "f4ddab43",
   "metadata": {},
   "source": [
    "# Проверяем все следующие гипотезы:"
   ]
  },
  {
   "cell_type": "markdown",
   "id": "dee16a65",
   "metadata": {},
   "source": [
    "# 1. Все конкуренты одинаково распознаются"
   ]
  },
  {
   "cell_type": "markdown",
   "id": "9df87f95",
   "metadata": {},
   "source": [
    "Конкурентов с необольшим кол-вом сканирований можно не проверять, т.к. пара сканирований не будет показательной, например, у конкурента 376 было 1 сканирование, где совпали и цена и продукт. Для объективности возьмём тех конкурентов, где было от 100 сканирований."
   ]
  },
  {
   "cell_type": "code",
   "execution_count": 43,
   "id": "2630e75a",
   "metadata": {},
   "outputs": [],
   "source": [
    "df_3 = df_3.query(\"quantity_photo >= 100\")"
   ]
  },
  {
   "cell_type": "code",
   "execution_count": 44,
   "id": "668b8132",
   "metadata": {
    "scrolled": true
   },
   "outputs": [
    {
     "data": {
      "text/html": [
       "<div>\n",
       "<style scoped>\n",
       "    .dataframe tbody tr th:only-of-type {\n",
       "        vertical-align: middle;\n",
       "    }\n",
       "\n",
       "    .dataframe tbody tr th {\n",
       "        vertical-align: top;\n",
       "    }\n",
       "\n",
       "    .dataframe thead th {\n",
       "        text-align: right;\n",
       "    }\n",
       "</style>\n",
       "<table border=\"1\" class=\"dataframe\">\n",
       "  <thead>\n",
       "    <tr style=\"text-align: right;\">\n",
       "      <th></th>\n",
       "      <th>competitor_id</th>\n",
       "      <th>quantity_photo</th>\n",
       "      <th>coincidence_prod</th>\n",
       "      <th>coincidence_price</th>\n",
       "      <th>coincidence_all</th>\n",
       "    </tr>\n",
       "  </thead>\n",
       "  <tbody>\n",
       "    <tr>\n",
       "      <th>count</th>\n",
       "      <td>72.00000</td>\n",
       "      <td>72.000000</td>\n",
       "      <td>72.000000</td>\n",
       "      <td>72.000000</td>\n",
       "      <td>72.000000</td>\n",
       "    </tr>\n",
       "    <tr>\n",
       "      <th>mean</th>\n",
       "      <td>35.50000</td>\n",
       "      <td>2006.972222</td>\n",
       "      <td>0.880694</td>\n",
       "      <td>0.865694</td>\n",
       "      <td>0.807083</td>\n",
       "    </tr>\n",
       "    <tr>\n",
       "      <th>std</th>\n",
       "      <td>20.92845</td>\n",
       "      <td>7350.414148</td>\n",
       "      <td>0.086648</td>\n",
       "      <td>0.127498</td>\n",
       "      <td>0.132914</td>\n",
       "    </tr>\n",
       "    <tr>\n",
       "      <th>min</th>\n",
       "      <td>0.00000</td>\n",
       "      <td>104.000000</td>\n",
       "      <td>0.410000</td>\n",
       "      <td>0.210000</td>\n",
       "      <td>0.160000</td>\n",
       "    </tr>\n",
       "    <tr>\n",
       "      <th>25%</th>\n",
       "      <td>17.75000</td>\n",
       "      <td>166.750000</td>\n",
       "      <td>0.870000</td>\n",
       "      <td>0.830000</td>\n",
       "      <td>0.777500</td>\n",
       "    </tr>\n",
       "    <tr>\n",
       "      <th>50%</th>\n",
       "      <td>35.50000</td>\n",
       "      <td>272.500000</td>\n",
       "      <td>0.905000</td>\n",
       "      <td>0.910000</td>\n",
       "      <td>0.840000</td>\n",
       "    </tr>\n",
       "    <tr>\n",
       "      <th>75%</th>\n",
       "      <td>53.25000</td>\n",
       "      <td>596.750000</td>\n",
       "      <td>0.930000</td>\n",
       "      <td>0.942500</td>\n",
       "      <td>0.890000</td>\n",
       "    </tr>\n",
       "    <tr>\n",
       "      <th>max</th>\n",
       "      <td>71.00000</td>\n",
       "      <td>41045.000000</td>\n",
       "      <td>0.980000</td>\n",
       "      <td>0.970000</td>\n",
       "      <td>0.960000</td>\n",
       "    </tr>\n",
       "  </tbody>\n",
       "</table>\n",
       "</div>"
      ],
      "text/plain": [
       "       competitor_id  quantity_photo  coincidence_prod  coincidence_price  \\\n",
       "count       72.00000       72.000000         72.000000          72.000000   \n",
       "mean        35.50000     2006.972222          0.880694           0.865694   \n",
       "std         20.92845     7350.414148          0.086648           0.127498   \n",
       "min          0.00000      104.000000          0.410000           0.210000   \n",
       "25%         17.75000      166.750000          0.870000           0.830000   \n",
       "50%         35.50000      272.500000          0.905000           0.910000   \n",
       "75%         53.25000      596.750000          0.930000           0.942500   \n",
       "max         71.00000    41045.000000          0.980000           0.970000   \n",
       "\n",
       "       coincidence_all  \n",
       "count        72.000000  \n",
       "mean          0.807083  \n",
       "std           0.132914  \n",
       "min           0.160000  \n",
       "25%           0.777500  \n",
       "50%           0.840000  \n",
       "75%           0.890000  \n",
       "max           0.960000  "
      ]
     },
     "execution_count": 44,
     "metadata": {},
     "output_type": "execute_result"
    }
   ],
   "source": [
    "df_3.describe()"
   ]
  },
  {
   "cell_type": "markdown",
   "id": "d2996788",
   "metadata": {},
   "source": [
    "Для метрики coincidence_prod среднее 88% совпадений, посмотрим кол-во конкурентов выше указанного порога: всего 47 конкурентов распознаются по продукту чаще среднего (для выборки из тех конкурентов, где было сделано 100+ фото)"
   ]
  },
  {
   "cell_type": "code",
   "execution_count": 45,
   "id": "aa791fd8",
   "metadata": {},
   "outputs": [
    {
     "data": {
      "text/plain": [
       "47"
      ]
     },
     "execution_count": 45,
     "metadata": {},
     "output_type": "execute_result"
    }
   ],
   "source": [
    "df_3.query(\"coincidence_prod > 0.88\").shape[0]"
   ]
  },
  {
   "cell_type": "markdown",
   "id": "72180732",
   "metadata": {},
   "source": [
    "Построим таблицу и график рапределения кол-ва конкурентов по значениям метрики"
   ]
  },
  {
   "cell_type": "code",
   "execution_count": 46,
   "id": "55b8daa8",
   "metadata": {
    "scrolled": true
   },
   "outputs": [
    {
     "data": {
      "text/html": [
       "<div>\n",
       "<style scoped>\n",
       "    .dataframe tbody tr th:only-of-type {\n",
       "        vertical-align: middle;\n",
       "    }\n",
       "\n",
       "    .dataframe tbody tr th {\n",
       "        vertical-align: top;\n",
       "    }\n",
       "\n",
       "    .dataframe thead th {\n",
       "        text-align: right;\n",
       "    }\n",
       "</style>\n",
       "<table border=\"1\" class=\"dataframe\">\n",
       "  <thead>\n",
       "    <tr style=\"text-align: right;\">\n",
       "      <th></th>\n",
       "      <th>coincidence_prod</th>\n",
       "      <th>quantity_competitor</th>\n",
       "    </tr>\n",
       "  </thead>\n",
       "  <tbody>\n",
       "    <tr>\n",
       "      <th>0</th>\n",
       "      <td>0.41</td>\n",
       "      <td>1</td>\n",
       "    </tr>\n",
       "    <tr>\n",
       "      <th>1</th>\n",
       "      <td>0.66</td>\n",
       "      <td>2</td>\n",
       "    </tr>\n",
       "    <tr>\n",
       "      <th>2</th>\n",
       "      <td>0.69</td>\n",
       "      <td>1</td>\n",
       "    </tr>\n",
       "    <tr>\n",
       "      <th>3</th>\n",
       "      <td>0.76</td>\n",
       "      <td>1</td>\n",
       "    </tr>\n",
       "    <tr>\n",
       "      <th>4</th>\n",
       "      <td>0.77</td>\n",
       "      <td>1</td>\n",
       "    </tr>\n",
       "    <tr>\n",
       "      <th>5</th>\n",
       "      <td>0.78</td>\n",
       "      <td>2</td>\n",
       "    </tr>\n",
       "    <tr>\n",
       "      <th>6</th>\n",
       "      <td>0.79</td>\n",
       "      <td>1</td>\n",
       "    </tr>\n",
       "    <tr>\n",
       "      <th>7</th>\n",
       "      <td>0.81</td>\n",
       "      <td>1</td>\n",
       "    </tr>\n",
       "    <tr>\n",
       "      <th>8</th>\n",
       "      <td>0.82</td>\n",
       "      <td>2</td>\n",
       "    </tr>\n",
       "    <tr>\n",
       "      <th>9</th>\n",
       "      <td>0.84</td>\n",
       "      <td>1</td>\n",
       "    </tr>\n",
       "    <tr>\n",
       "      <th>10</th>\n",
       "      <td>0.85</td>\n",
       "      <td>2</td>\n",
       "    </tr>\n",
       "    <tr>\n",
       "      <th>11</th>\n",
       "      <td>0.86</td>\n",
       "      <td>2</td>\n",
       "    </tr>\n",
       "    <tr>\n",
       "      <th>12</th>\n",
       "      <td>0.87</td>\n",
       "      <td>2</td>\n",
       "    </tr>\n",
       "    <tr>\n",
       "      <th>13</th>\n",
       "      <td>0.88</td>\n",
       "      <td>6</td>\n",
       "    </tr>\n",
       "    <tr>\n",
       "      <th>14</th>\n",
       "      <td>0.89</td>\n",
       "      <td>4</td>\n",
       "    </tr>\n",
       "    <tr>\n",
       "      <th>15</th>\n",
       "      <td>0.90</td>\n",
       "      <td>7</td>\n",
       "    </tr>\n",
       "    <tr>\n",
       "      <th>16</th>\n",
       "      <td>0.91</td>\n",
       "      <td>9</td>\n",
       "    </tr>\n",
       "    <tr>\n",
       "      <th>17</th>\n",
       "      <td>0.92</td>\n",
       "      <td>6</td>\n",
       "    </tr>\n",
       "    <tr>\n",
       "      <th>18</th>\n",
       "      <td>0.93</td>\n",
       "      <td>5</td>\n",
       "    </tr>\n",
       "    <tr>\n",
       "      <th>19</th>\n",
       "      <td>0.94</td>\n",
       "      <td>9</td>\n",
       "    </tr>\n",
       "    <tr>\n",
       "      <th>20</th>\n",
       "      <td>0.95</td>\n",
       "      <td>4</td>\n",
       "    </tr>\n",
       "    <tr>\n",
       "      <th>21</th>\n",
       "      <td>0.96</td>\n",
       "      <td>2</td>\n",
       "    </tr>\n",
       "    <tr>\n",
       "      <th>22</th>\n",
       "      <td>0.98</td>\n",
       "      <td>1</td>\n",
       "    </tr>\n",
       "  </tbody>\n",
       "</table>\n",
       "</div>"
      ],
      "text/plain": [
       "    coincidence_prod  quantity_competitor\n",
       "0               0.41                    1\n",
       "1               0.66                    2\n",
       "2               0.69                    1\n",
       "3               0.76                    1\n",
       "4               0.77                    1\n",
       "5               0.78                    2\n",
       "6               0.79                    1\n",
       "7               0.81                    1\n",
       "8               0.82                    2\n",
       "9               0.84                    1\n",
       "10              0.85                    2\n",
       "11              0.86                    2\n",
       "12              0.87                    2\n",
       "13              0.88                    6\n",
       "14              0.89                    4\n",
       "15              0.90                    7\n",
       "16              0.91                    9\n",
       "17              0.92                    6\n",
       "18              0.93                    5\n",
       "19              0.94                    9\n",
       "20              0.95                    4\n",
       "21              0.96                    2\n",
       "22              0.98                    1"
      ]
     },
     "execution_count": 46,
     "metadata": {},
     "output_type": "execute_result"
    }
   ],
   "source": [
    "df_4 = df_3.groupby(\"coincidence_prod\", as_index = False) \\\n",
    "    .agg({\"competitor_id\": \"count\"}) \\\n",
    "    .rename(columns = {'competitor_id':'quantity_competitor'})\n",
    "df_4"
   ]
  },
  {
   "cell_type": "code",
   "execution_count": 47,
   "id": "0e6027a9",
   "metadata": {
    "scrolled": true
   },
   "outputs": [
    {
     "data": {
      "text/plain": [
       "<Axes: xlabel='coincidence_prod', ylabel='quantity_competitor'>"
      ]
     },
     "execution_count": 47,
     "metadata": {},
     "output_type": "execute_result"
    },
    {
     "data": {
      "image/png": "[encoded data removed]",
      "text/plain": [
       "<Figure size 1200x800 with 1 Axes>"
      ]
     },
     "metadata": {},
     "output_type": "display_data"
    }
   ],
   "source": [
    "plt.figure(figsize=(12, 8))\n",
    "sns.barplot(x=\"coincidence_prod\", y=\"quantity_competitor\", data=df_4)"
   ]
  },
  {
   "cell_type": "markdown",
   "id": "fbf40443",
   "metadata": {},
   "source": [
    "И из таблицы, и из графика видно, что распознавание по продукту не одинаково, причём чем выше процент, тем больше соответсвующих ему конкурентов. При этом сам разбег по распознаванию в передлах 30%"
   ]
  },
  {
   "cell_type": "markdown",
   "id": "834205f4",
   "metadata": {},
   "source": [
    "Для метрики coincidence_price среднее 86% совпадений, посмотрим кол-во конкурентов выше указанного порога, всего 51 конкурент распознаётся по продукту чаще среднего (для выборки из тех конкурентов, где было сделано 100+ фото)"
   ]
  },
  {
   "cell_type": "code",
   "execution_count": 48,
   "id": "8d4962b8",
   "metadata": {},
   "outputs": [
    {
     "data": {
      "text/plain": [
       "51"
      ]
     },
     "execution_count": 48,
     "metadata": {},
     "output_type": "execute_result"
    }
   ],
   "source": [
    "df_3.query(\"coincidence_price > 0.86\").shape[0]"
   ]
  },
  {
   "cell_type": "markdown",
   "id": "ba15aab2",
   "metadata": {},
   "source": [
    "Построим таблицу и график рапределения кол-ва конкурентов по значениям метрики"
   ]
  },
  {
   "cell_type": "code",
   "execution_count": 49,
   "id": "764284a4",
   "metadata": {},
   "outputs": [
    {
     "data": {
      "text/html": [
       "<div>\n",
       "<style scoped>\n",
       "    .dataframe tbody tr th:only-of-type {\n",
       "        vertical-align: middle;\n",
       "    }\n",
       "\n",
       "    .dataframe tbody tr th {\n",
       "        vertical-align: top;\n",
       "    }\n",
       "\n",
       "    .dataframe thead th {\n",
       "        text-align: right;\n",
       "    }\n",
       "</style>\n",
       "<table border=\"1\" class=\"dataframe\">\n",
       "  <thead>\n",
       "    <tr style=\"text-align: right;\">\n",
       "      <th></th>\n",
       "      <th>coincidence_price</th>\n",
       "      <th>quantity_competitor</th>\n",
       "    </tr>\n",
       "  </thead>\n",
       "  <tbody>\n",
       "    <tr>\n",
       "      <th>0</th>\n",
       "      <td>0.21</td>\n",
       "      <td>1</td>\n",
       "    </tr>\n",
       "    <tr>\n",
       "      <th>1</th>\n",
       "      <td>0.51</td>\n",
       "      <td>1</td>\n",
       "    </tr>\n",
       "    <tr>\n",
       "      <th>2</th>\n",
       "      <td>0.55</td>\n",
       "      <td>2</td>\n",
       "    </tr>\n",
       "    <tr>\n",
       "      <th>3</th>\n",
       "      <td>0.68</td>\n",
       "      <td>1</td>\n",
       "    </tr>\n",
       "    <tr>\n",
       "      <th>4</th>\n",
       "      <td>0.72</td>\n",
       "      <td>2</td>\n",
       "    </tr>\n",
       "    <tr>\n",
       "      <th>5</th>\n",
       "      <td>0.74</td>\n",
       "      <td>2</td>\n",
       "    </tr>\n",
       "    <tr>\n",
       "      <th>6</th>\n",
       "      <td>0.75</td>\n",
       "      <td>1</td>\n",
       "    </tr>\n",
       "    <tr>\n",
       "      <th>7</th>\n",
       "      <td>0.77</td>\n",
       "      <td>2</td>\n",
       "    </tr>\n",
       "    <tr>\n",
       "      <th>8</th>\n",
       "      <td>0.79</td>\n",
       "      <td>1</td>\n",
       "    </tr>\n",
       "    <tr>\n",
       "      <th>9</th>\n",
       "      <td>0.80</td>\n",
       "      <td>3</td>\n",
       "    </tr>\n",
       "    <tr>\n",
       "      <th>10</th>\n",
       "      <td>0.82</td>\n",
       "      <td>1</td>\n",
       "    </tr>\n",
       "    <tr>\n",
       "      <th>11</th>\n",
       "      <td>0.83</td>\n",
       "      <td>2</td>\n",
       "    </tr>\n",
       "    <tr>\n",
       "      <th>12</th>\n",
       "      <td>0.84</td>\n",
       "      <td>1</td>\n",
       "    </tr>\n",
       "    <tr>\n",
       "      <th>13</th>\n",
       "      <td>0.85</td>\n",
       "      <td>1</td>\n",
       "    </tr>\n",
       "    <tr>\n",
       "      <th>14</th>\n",
       "      <td>0.87</td>\n",
       "      <td>3</td>\n",
       "    </tr>\n",
       "    <tr>\n",
       "      <th>15</th>\n",
       "      <td>0.88</td>\n",
       "      <td>2</td>\n",
       "    </tr>\n",
       "    <tr>\n",
       "      <th>16</th>\n",
       "      <td>0.89</td>\n",
       "      <td>5</td>\n",
       "    </tr>\n",
       "    <tr>\n",
       "      <th>17</th>\n",
       "      <td>0.90</td>\n",
       "      <td>4</td>\n",
       "    </tr>\n",
       "    <tr>\n",
       "      <th>18</th>\n",
       "      <td>0.91</td>\n",
       "      <td>4</td>\n",
       "    </tr>\n",
       "    <tr>\n",
       "      <th>19</th>\n",
       "      <td>0.92</td>\n",
       "      <td>6</td>\n",
       "    </tr>\n",
       "    <tr>\n",
       "      <th>20</th>\n",
       "      <td>0.93</td>\n",
       "      <td>2</td>\n",
       "    </tr>\n",
       "    <tr>\n",
       "      <th>21</th>\n",
       "      <td>0.94</td>\n",
       "      <td>7</td>\n",
       "    </tr>\n",
       "    <tr>\n",
       "      <th>22</th>\n",
       "      <td>0.95</td>\n",
       "      <td>6</td>\n",
       "    </tr>\n",
       "    <tr>\n",
       "      <th>23</th>\n",
       "      <td>0.96</td>\n",
       "      <td>10</td>\n",
       "    </tr>\n",
       "    <tr>\n",
       "      <th>24</th>\n",
       "      <td>0.97</td>\n",
       "      <td>2</td>\n",
       "    </tr>\n",
       "  </tbody>\n",
       "</table>\n",
       "</div>"
      ],
      "text/plain": [
       "    coincidence_price  quantity_competitor\n",
       "0                0.21                    1\n",
       "1                0.51                    1\n",
       "2                0.55                    2\n",
       "3                0.68                    1\n",
       "4                0.72                    2\n",
       "5                0.74                    2\n",
       "6                0.75                    1\n",
       "7                0.77                    2\n",
       "8                0.79                    1\n",
       "9                0.80                    3\n",
       "10               0.82                    1\n",
       "11               0.83                    2\n",
       "12               0.84                    1\n",
       "13               0.85                    1\n",
       "14               0.87                    3\n",
       "15               0.88                    2\n",
       "16               0.89                    5\n",
       "17               0.90                    4\n",
       "18               0.91                    4\n",
       "19               0.92                    6\n",
       "20               0.93                    2\n",
       "21               0.94                    7\n",
       "22               0.95                    6\n",
       "23               0.96                   10\n",
       "24               0.97                    2"
      ]
     },
     "execution_count": 49,
     "metadata": {},
     "output_type": "execute_result"
    }
   ],
   "source": [
    "df_5 = df_3.groupby(\"coincidence_price\", as_index = False) \\\n",
    "    .agg({\"competitor_id\": \"count\"}) \\\n",
    "    .rename(columns = {'competitor_id':'quantity_competitor'})\n",
    "df_5"
   ]
  },
  {
   "cell_type": "code",
   "execution_count": 50,
   "id": "6969b269",
   "metadata": {},
   "outputs": [
    {
     "data": {
      "text/plain": [
       "<Axes: xlabel='coincidence_price', ylabel='quantity_competitor'>"
      ]
     },
     "execution_count": 50,
     "metadata": {},
     "output_type": "execute_result"
    },
    {
     "data": {
      "image/png": "[encoded data removed]",
      "text/plain": [
       "<Figure size 1200x800 with 1 Axes>"
      ]
     },
     "metadata": {},
     "output_type": "display_data"
    }
   ],
   "source": [
    "plt.figure(figsize=(12, 8))\n",
    "sns.barplot(x=\"coincidence_price\", y=\"quantity_competitor\", data=df_5)"
   ]
  },
  {
   "cell_type": "markdown",
   "id": "9bfa8200",
   "metadata": {},
   "source": [
    "И из таблицы, и из графика также видно, что распознавание по цене не одинаково, причём чем выше процент тем больше соответсвующих ему конкурентов. При этом сам разбег по распознаванию цены более выражен, чем по распознованию продукта."
   ]
  },
  {
   "cell_type": "markdown",
   "id": "d7c418c1",
   "metadata": {},
   "source": [
    "Для метрики coincidence_all среднее 80% совпадений, посмотрим кол-во конкурентов выше указанного порога, всего 48 конкурентов распознаются по продукту чаще среднего (для выборки из тех конкурентов, где было сделано 100+ фото)."
   ]
  },
  {
   "cell_type": "code",
   "execution_count": 51,
   "id": "f9d48358",
   "metadata": {},
   "outputs": [
    {
     "data": {
      "text/plain": [
       "48"
      ]
     },
     "execution_count": 51,
     "metadata": {},
     "output_type": "execute_result"
    }
   ],
   "source": [
    "df_3.query(\"coincidence_all > 0.8\").shape[0]"
   ]
  },
  {
   "cell_type": "markdown",
   "id": "68cdfe88",
   "metadata": {},
   "source": [
    "Построим таблицу и график рапределения кол-ва конкурентов по значениям метрики:"
   ]
  },
  {
   "cell_type": "code",
   "execution_count": 52,
   "id": "2265111f",
   "metadata": {},
   "outputs": [
    {
     "data": {
      "text/html": [
       "<div>\n",
       "<style scoped>\n",
       "    .dataframe tbody tr th:only-of-type {\n",
       "        vertical-align: middle;\n",
       "    }\n",
       "\n",
       "    .dataframe tbody tr th {\n",
       "        vertical-align: top;\n",
       "    }\n",
       "\n",
       "    .dataframe thead th {\n",
       "        text-align: right;\n",
       "    }\n",
       "</style>\n",
       "<table border=\"1\" class=\"dataframe\">\n",
       "  <thead>\n",
       "    <tr style=\"text-align: right;\">\n",
       "      <th></th>\n",
       "      <th>coincidence_all</th>\n",
       "      <th>quantity_competitor</th>\n",
       "    </tr>\n",
       "  </thead>\n",
       "  <tbody>\n",
       "    <tr>\n",
       "      <th>0</th>\n",
       "      <td>0.16</td>\n",
       "      <td>1</td>\n",
       "    </tr>\n",
       "    <tr>\n",
       "      <th>1</th>\n",
       "      <td>0.43</td>\n",
       "      <td>1</td>\n",
       "    </tr>\n",
       "    <tr>\n",
       "      <th>2</th>\n",
       "      <td>0.51</td>\n",
       "      <td>1</td>\n",
       "    </tr>\n",
       "    <tr>\n",
       "      <th>3</th>\n",
       "      <td>0.52</td>\n",
       "      <td>1</td>\n",
       "    </tr>\n",
       "    <tr>\n",
       "      <th>4</th>\n",
       "      <td>0.59</td>\n",
       "      <td>1</td>\n",
       "    </tr>\n",
       "    <tr>\n",
       "      <th>5</th>\n",
       "      <td>0.61</td>\n",
       "      <td>1</td>\n",
       "    </tr>\n",
       "    <tr>\n",
       "      <th>6</th>\n",
       "      <td>0.62</td>\n",
       "      <td>1</td>\n",
       "    </tr>\n",
       "    <tr>\n",
       "      <th>7</th>\n",
       "      <td>0.63</td>\n",
       "      <td>1</td>\n",
       "    </tr>\n",
       "    <tr>\n",
       "      <th>8</th>\n",
       "      <td>0.68</td>\n",
       "      <td>2</td>\n",
       "    </tr>\n",
       "    <tr>\n",
       "      <th>9</th>\n",
       "      <td>0.69</td>\n",
       "      <td>1</td>\n",
       "    </tr>\n",
       "    <tr>\n",
       "      <th>10</th>\n",
       "      <td>0.72</td>\n",
       "      <td>2</td>\n",
       "    </tr>\n",
       "    <tr>\n",
       "      <th>11</th>\n",
       "      <td>0.74</td>\n",
       "      <td>2</td>\n",
       "    </tr>\n",
       "    <tr>\n",
       "      <th>12</th>\n",
       "      <td>0.76</td>\n",
       "      <td>2</td>\n",
       "    </tr>\n",
       "    <tr>\n",
       "      <th>13</th>\n",
       "      <td>0.77</td>\n",
       "      <td>1</td>\n",
       "    </tr>\n",
       "    <tr>\n",
       "      <th>14</th>\n",
       "      <td>0.78</td>\n",
       "      <td>3</td>\n",
       "    </tr>\n",
       "    <tr>\n",
       "      <th>15</th>\n",
       "      <td>0.79</td>\n",
       "      <td>1</td>\n",
       "    </tr>\n",
       "    <tr>\n",
       "      <th>16</th>\n",
       "      <td>0.80</td>\n",
       "      <td>2</td>\n",
       "    </tr>\n",
       "    <tr>\n",
       "      <th>17</th>\n",
       "      <td>0.81</td>\n",
       "      <td>1</td>\n",
       "    </tr>\n",
       "    <tr>\n",
       "      <th>18</th>\n",
       "      <td>0.82</td>\n",
       "      <td>3</td>\n",
       "    </tr>\n",
       "    <tr>\n",
       "      <th>19</th>\n",
       "      <td>0.83</td>\n",
       "      <td>4</td>\n",
       "    </tr>\n",
       "    <tr>\n",
       "      <th>20</th>\n",
       "      <td>0.84</td>\n",
       "      <td>5</td>\n",
       "    </tr>\n",
       "    <tr>\n",
       "      <th>21</th>\n",
       "      <td>0.85</td>\n",
       "      <td>3</td>\n",
       "    </tr>\n",
       "    <tr>\n",
       "      <th>22</th>\n",
       "      <td>0.86</td>\n",
       "      <td>2</td>\n",
       "    </tr>\n",
       "    <tr>\n",
       "      <th>23</th>\n",
       "      <td>0.87</td>\n",
       "      <td>6</td>\n",
       "    </tr>\n",
       "    <tr>\n",
       "      <th>24</th>\n",
       "      <td>0.88</td>\n",
       "      <td>1</td>\n",
       "    </tr>\n",
       "    <tr>\n",
       "      <th>25</th>\n",
       "      <td>0.89</td>\n",
       "      <td>9</td>\n",
       "    </tr>\n",
       "    <tr>\n",
       "      <th>26</th>\n",
       "      <td>0.90</td>\n",
       "      <td>1</td>\n",
       "    </tr>\n",
       "    <tr>\n",
       "      <th>27</th>\n",
       "      <td>0.91</td>\n",
       "      <td>6</td>\n",
       "    </tr>\n",
       "    <tr>\n",
       "      <th>28</th>\n",
       "      <td>0.92</td>\n",
       "      <td>3</td>\n",
       "    </tr>\n",
       "    <tr>\n",
       "      <th>29</th>\n",
       "      <td>0.93</td>\n",
       "      <td>2</td>\n",
       "    </tr>\n",
       "    <tr>\n",
       "      <th>30</th>\n",
       "      <td>0.94</td>\n",
       "      <td>1</td>\n",
       "    </tr>\n",
       "    <tr>\n",
       "      <th>31</th>\n",
       "      <td>0.96</td>\n",
       "      <td>1</td>\n",
       "    </tr>\n",
       "  </tbody>\n",
       "</table>\n",
       "</div>"
      ],
      "text/plain": [
       "    coincidence_all  quantity_competitor\n",
       "0              0.16                    1\n",
       "1              0.43                    1\n",
       "2              0.51                    1\n",
       "3              0.52                    1\n",
       "4              0.59                    1\n",
       "5              0.61                    1\n",
       "6              0.62                    1\n",
       "7              0.63                    1\n",
       "8              0.68                    2\n",
       "9              0.69                    1\n",
       "10             0.72                    2\n",
       "11             0.74                    2\n",
       "12             0.76                    2\n",
       "13             0.77                    1\n",
       "14             0.78                    3\n",
       "15             0.79                    1\n",
       "16             0.80                    2\n",
       "17             0.81                    1\n",
       "18             0.82                    3\n",
       "19             0.83                    4\n",
       "20             0.84                    5\n",
       "21             0.85                    3\n",
       "22             0.86                    2\n",
       "23             0.87                    6\n",
       "24             0.88                    1\n",
       "25             0.89                    9\n",
       "26             0.90                    1\n",
       "27             0.91                    6\n",
       "28             0.92                    3\n",
       "29             0.93                    2\n",
       "30             0.94                    1\n",
       "31             0.96                    1"
      ]
     },
     "execution_count": 52,
     "metadata": {},
     "output_type": "execute_result"
    }
   ],
   "source": [
    "df_6 = df_3.groupby(\"coincidence_all\", as_index = False) \\\n",
    "    .agg({\"competitor_id\": \"count\"}) \\\n",
    "    .rename(columns = {'competitor_id':'quantity_competitor'})\n",
    "df_6"
   ]
  },
  {
   "cell_type": "code",
   "execution_count": 53,
   "id": "36519ee9",
   "metadata": {},
   "outputs": [
    {
     "data": {
      "text/plain": [
       "<Axes: xlabel='coincidence_all', ylabel='quantity_competitor'>"
      ]
     },
     "execution_count": 53,
     "metadata": {},
     "output_type": "execute_result"
    },
    {
     "data": {
      "image/png": "[encoded data removed]",
      "text/plain": [
       "<Figure size 640x480 with 1 Axes>"
      ]
     },
     "metadata": {},
     "output_type": "display_data"
    }
   ],
   "source": [
    "sns.barplot(x=\"coincidence_all\", y=\"quantity_competitor\", data=df_6)"
   ]
  },
  {
   "cell_type": "markdown",
   "id": "236fba58",
   "metadata": {},
   "source": [
    "И из таблицы, и из графика видно, что общее распознавание не одинаково, причём чем выше процент тем больше соответсвующих ему конкурентов. При этом распределение по общему распознаванию близко к распределению распознавания цены продукта.\n",
    "\n",
    "Полагаю, что гипотеза неверна, и конкуренты распознаются по-разному."
   ]
  },
  {
   "cell_type": "markdown",
   "id": "263b8951",
   "metadata": {},
   "source": [
    "Почему: одна из возможных причин - ценник, на них могут использоваться разные шрифты, вид бумаги, способ печати, м.б. использованы разные цвета (например при акции - жёлтые и красные ценники), разное кол-во информации, в т.ч. числовая, которая м.б. распознана как цена (артикул и т.п.)\n",
    "\n",
    "Ещё возможная причина - то, как расположен товар и освещение: м.б. снижена читаемость ценников из-за тёного помещения, тесного расположения ценников, вожможно ценники ламинируются и отбликивают, что также влияет на их читаемость."
   ]
  },
  {
   "cell_type": "markdown",
   "id": "b67e6353",
   "metadata": {},
   "source": [
    "# 2. В распознавании цены есть проблемы"
   ]
  },
  {
   "cell_type": "markdown",
   "id": "ac2201c1",
   "metadata": {},
   "source": [
    "Во-первых, проверим, сколько раз цена вообще не распознана:"
   ]
  },
  {
   "cell_type": "code",
   "execution_count": 54,
   "id": "6dbed67e",
   "metadata": {
    "scrolled": true
   },
   "outputs": [
    {
     "data": {
      "text/plain": [
       "3961"
      ]
     },
     "execution_count": 54,
     "metadata": {},
     "output_type": "execute_result"
    }
   ],
   "source": [
    "df.predicted_product_price.isna().sum()"
   ]
  },
  {
   "cell_type": "markdown",
   "id": "d8068a7a",
   "metadata": {},
   "source": [
    "В 2,6% случаев цена небыла распознана совсем"
   ]
  },
  {
   "cell_type": "code",
   "execution_count": 55,
   "id": "824d4416",
   "metadata": {
    "scrolled": true
   },
   "outputs": [
    {
     "data": {
      "text/plain": [
       "0.026406666666666665"
      ]
     },
     "execution_count": 55,
     "metadata": {},
     "output_type": "execute_result"
    }
   ],
   "source": [
    "df.predicted_product_price.isna().sum()/df.shape[0]"
   ]
  },
  {
   "cell_type": "markdown",
   "id": "260542b6",
   "metadata": {},
   "source": [
    "Проверим, сколько раз цена не совпала с указанной в ценнике"
   ]
  },
  {
   "cell_type": "code",
   "execution_count": 56,
   "id": "f47024b4",
   "metadata": {
    "scrolled": true
   },
   "outputs": [
    {
     "data": {
      "text/plain": [
       "10303"
      ]
     },
     "execution_count": 56,
     "metadata": {},
     "output_type": "execute_result"
    }
   ],
   "source": [
    "df.shape[0] - df.coincidence_price.sum()"
   ]
  },
  {
   "cell_type": "markdown",
   "id": "539a584f",
   "metadata": {},
   "source": [
    "Почти в 7% случаев цена не была распознана или распознана некорректно"
   ]
  },
  {
   "cell_type": "code",
   "execution_count": 57,
   "id": "451d76e2",
   "metadata": {},
   "outputs": [
    {
     "data": {
      "text/plain": [
       "0.06868666666666666"
      ]
     },
     "execution_count": 57,
     "metadata": {},
     "output_type": "execute_result"
    }
   ],
   "source": [
    "(df.shape[0] - df.coincidence_price.sum())/df.shape[0]"
   ]
  },
  {
   "cell_type": "markdown",
   "id": "680caec2",
   "metadata": {},
   "source": [
    "Посчитаем тоже с определением продукта:"
   ]
  },
  {
   "cell_type": "code",
   "execution_count": 58,
   "id": "4fb7db59",
   "metadata": {},
   "outputs": [
    {
     "data": {
      "text/plain": [
       "0.02596"
      ]
     },
     "execution_count": 58,
     "metadata": {},
     "output_type": "execute_result"
    }
   ],
   "source": [
    "df.predicted_product_id.isna().sum()/df.shape[0]"
   ]
  },
  {
   "cell_type": "code",
   "execution_count": 59,
   "id": "570c9f0d",
   "metadata": {},
   "outputs": [
    {
     "data": {
      "text/plain": [
       "0.07406666666666667"
      ]
     },
     "execution_count": 59,
     "metadata": {},
     "output_type": "execute_result"
    }
   ],
   "source": [
    "(df.shape[0] - df.coincidence_prod.sum())/df.shape[0]"
   ]
  },
  {
   "cell_type": "markdown",
   "id": "3ca6a334",
   "metadata": {},
   "source": [
    "Получаем примерно те же значения."
   ]
  },
  {
   "cell_type": "markdown",
   "id": "8e2c5296",
   "metadata": {},
   "source": [
    "Ярко выраженной проблемы с определением цены не наблюдается как в части соотношения общего количества сканирований и количества неудачных сканировний, так и в соотношении неудачных сканирований цены и неудачных сканирований продукта. Гипотеза неверна."
   ]
  },
  {
   "cell_type": "markdown",
   "id": "639051e3",
   "metadata": {},
   "source": [
    "# 3. Поле dt_create влияет на общую метрику распознавания"
   ]
  },
  {
   "cell_type": "markdown",
   "id": "7717fcb4",
   "metadata": {},
   "source": [
    "Пересчитаем метрику с группировкой по дате"
   ]
  },
  {
   "cell_type": "code",
   "execution_count": 60,
   "id": "828cc45b",
   "metadata": {},
   "outputs": [],
   "source": [
    "df_7 = df.groupby(\"dt_create\", as_index = False) \\\n",
    "  .agg({\"shop_id\": \"count\", \"coincidence_all\": \"sum\"}) \\\n",
    "  .rename(columns = {'shop_id':'quantity_photo'})"
   ]
  },
  {
   "cell_type": "code",
   "execution_count": 61,
   "id": "fc6fbde4",
   "metadata": {},
   "outputs": [],
   "source": [
    "df_7[\"coincidence_all\"] = round(df_7.coincidence_all / df_7.quantity_photo, 2)"
   ]
  },
  {
   "cell_type": "code",
   "execution_count": 62,
   "id": "8f32ff81",
   "metadata": {
    "scrolled": true
   },
   "outputs": [
    {
     "data": {
      "text/html": [
       "<div>\n",
       "<style scoped>\n",
       "    .dataframe tbody tr th:only-of-type {\n",
       "        vertical-align: middle;\n",
       "    }\n",
       "\n",
       "    .dataframe tbody tr th {\n",
       "        vertical-align: top;\n",
       "    }\n",
       "\n",
       "    .dataframe thead th {\n",
       "        text-align: right;\n",
       "    }\n",
       "</style>\n",
       "<table border=\"1\" class=\"dataframe\">\n",
       "  <thead>\n",
       "    <tr style=\"text-align: right;\">\n",
       "      <th></th>\n",
       "      <th>dt_create</th>\n",
       "      <th>quantity_photo</th>\n",
       "      <th>coincidence_all</th>\n",
       "    </tr>\n",
       "  </thead>\n",
       "  <tbody>\n",
       "    <tr>\n",
       "      <th>0</th>\n",
       "      <td>2023-01-30</td>\n",
       "      <td>10028</td>\n",
       "      <td>0.87</td>\n",
       "    </tr>\n",
       "    <tr>\n",
       "      <th>1</th>\n",
       "      <td>2023-01-31</td>\n",
       "      <td>10383</td>\n",
       "      <td>0.87</td>\n",
       "    </tr>\n",
       "    <tr>\n",
       "      <th>2</th>\n",
       "      <td>2023-02-01</td>\n",
       "      <td>9039</td>\n",
       "      <td>0.86</td>\n",
       "    </tr>\n",
       "    <tr>\n",
       "      <th>3</th>\n",
       "      <td>2023-02-02</td>\n",
       "      <td>11050</td>\n",
       "      <td>0.91</td>\n",
       "    </tr>\n",
       "    <tr>\n",
       "      <th>4</th>\n",
       "      <td>2023-02-03</td>\n",
       "      <td>10039</td>\n",
       "      <td>0.88</td>\n",
       "    </tr>\n",
       "    <tr>\n",
       "      <th>5</th>\n",
       "      <td>2023-02-06</td>\n",
       "      <td>9935</td>\n",
       "      <td>0.88</td>\n",
       "    </tr>\n",
       "    <tr>\n",
       "      <th>6</th>\n",
       "      <td>2023-02-07</td>\n",
       "      <td>10002</td>\n",
       "      <td>0.90</td>\n",
       "    </tr>\n",
       "    <tr>\n",
       "      <th>7</th>\n",
       "      <td>2023-02-08</td>\n",
       "      <td>8867</td>\n",
       "      <td>0.86</td>\n",
       "    </tr>\n",
       "    <tr>\n",
       "      <th>8</th>\n",
       "      <td>2023-02-09</td>\n",
       "      <td>10940</td>\n",
       "      <td>0.91</td>\n",
       "    </tr>\n",
       "    <tr>\n",
       "      <th>9</th>\n",
       "      <td>2023-02-10</td>\n",
       "      <td>10009</td>\n",
       "      <td>0.88</td>\n",
       "    </tr>\n",
       "    <tr>\n",
       "      <th>10</th>\n",
       "      <td>2023-02-13</td>\n",
       "      <td>9924</td>\n",
       "      <td>0.90</td>\n",
       "    </tr>\n",
       "    <tr>\n",
       "      <th>11</th>\n",
       "      <td>2023-02-14</td>\n",
       "      <td>10061</td>\n",
       "      <td>0.90</td>\n",
       "    </tr>\n",
       "    <tr>\n",
       "      <th>12</th>\n",
       "      <td>2023-02-15</td>\n",
       "      <td>8781</td>\n",
       "      <td>0.88</td>\n",
       "    </tr>\n",
       "    <tr>\n",
       "      <th>13</th>\n",
       "      <td>2023-02-16</td>\n",
       "      <td>11017</td>\n",
       "      <td>0.92</td>\n",
       "    </tr>\n",
       "    <tr>\n",
       "      <th>14</th>\n",
       "      <td>2023-02-17</td>\n",
       "      <td>9925</td>\n",
       "      <td>0.90</td>\n",
       "    </tr>\n",
       "  </tbody>\n",
       "</table>\n",
       "</div>"
      ],
      "text/plain": [
       "    dt_create  quantity_photo  coincidence_all\n",
       "0  2023-01-30           10028             0.87\n",
       "1  2023-01-31           10383             0.87\n",
       "2  2023-02-01            9039             0.86\n",
       "3  2023-02-02           11050             0.91\n",
       "4  2023-02-03           10039             0.88\n",
       "5  2023-02-06            9935             0.88\n",
       "6  2023-02-07           10002             0.90\n",
       "7  2023-02-08            8867             0.86\n",
       "8  2023-02-09           10940             0.91\n",
       "9  2023-02-10           10009             0.88\n",
       "10 2023-02-13            9924             0.90\n",
       "11 2023-02-14           10061             0.90\n",
       "12 2023-02-15            8781             0.88\n",
       "13 2023-02-16           11017             0.92\n",
       "14 2023-02-17            9925             0.90"
      ]
     },
     "execution_count": 62,
     "metadata": {},
     "output_type": "execute_result"
    }
   ],
   "source": [
    "df_7"
   ]
  },
  {
   "cell_type": "code",
   "execution_count": 63,
   "id": "2a09b666",
   "metadata": {},
   "outputs": [
    {
     "data": {
      "text/plain": [
       "0.86"
      ]
     },
     "execution_count": 63,
     "metadata": {},
     "output_type": "execute_result"
    }
   ],
   "source": [
    "df_7.coincidence_all.min()"
   ]
  },
  {
   "cell_type": "code",
   "execution_count": 64,
   "id": "f53db2c9",
   "metadata": {},
   "outputs": [
    {
     "data": {
      "text/plain": [
       "0.92"
      ]
     },
     "execution_count": 64,
     "metadata": {},
     "output_type": "execute_result"
    }
   ],
   "source": [
    "df_7.coincidence_all.max()"
   ]
  },
  {
   "cell_type": "markdown",
   "id": "443dfc35",
   "metadata": {},
   "source": [
    "По дате нет видимых отличий по кол-ву сканирований товара, также метрика coincidence_all колеблется от 86 до 92 процентов, что в общей картине также не играет роли. Гипотеза неверна."
   ]
  },
  {
   "cell_type": "markdown",
   "id": "e67d5b64",
   "metadata": {},
   "source": [
    "Почему? Вероятно, магазины конкурентов посещяются равномерно, в каждый день совершается +/- одинаковое количество сканирований, также в выгрузке отсутствуют выходные, когда картина м.б. иной (например, из-за перегруженности сети, что затруднило бы попытки сделать качественное фото)"
   ]
  },
  {
   "cell_type": "markdown",
   "id": "152e40f6",
   "metadata": {},
   "source": [
    "# 4. Общая метрика распознавания зависит от магазина сотрудника"
   ]
  },
  {
   "cell_type": "code",
   "execution_count": 65,
   "id": "3dcea7ff",
   "metadata": {},
   "outputs": [],
   "source": [
    "df_8 = df.groupby(\"shop_id\", as_index = False) \\\n",
    "  .agg({\"dt_create\": \"count\", \"coincidence_all\": \"sum\"}) \\\n",
    "  .rename(columns = {'dt_create':'quantity_photo'})"
   ]
  },
  {
   "cell_type": "code",
   "execution_count": 66,
   "id": "63dea5ef",
   "metadata": {},
   "outputs": [
    {
     "data": {
      "text/html": [
       "<div>\n",
       "<style scoped>\n",
       "    .dataframe tbody tr th:only-of-type {\n",
       "        vertical-align: middle;\n",
       "    }\n",
       "\n",
       "    .dataframe tbody tr th {\n",
       "        vertical-align: top;\n",
       "    }\n",
       "\n",
       "    .dataframe thead th {\n",
       "        text-align: right;\n",
       "    }\n",
       "</style>\n",
       "<table border=\"1\" class=\"dataframe\">\n",
       "  <thead>\n",
       "    <tr style=\"text-align: right;\">\n",
       "      <th></th>\n",
       "      <th>shop_id</th>\n",
       "      <th>quantity_photo</th>\n",
       "      <th>coincidence_all</th>\n",
       "    </tr>\n",
       "  </thead>\n",
       "  <tbody>\n",
       "    <tr>\n",
       "      <th>count</th>\n",
       "      <td>5321.000000</td>\n",
       "      <td>5321.000000</td>\n",
       "      <td>5321.000000</td>\n",
       "    </tr>\n",
       "    <tr>\n",
       "      <th>mean</th>\n",
       "      <td>2660.000000</td>\n",
       "      <td>28.190190</td>\n",
       "      <td>25.085510</td>\n",
       "    </tr>\n",
       "    <tr>\n",
       "      <th>std</th>\n",
       "      <td>1536.184722</td>\n",
       "      <td>15.229828</td>\n",
       "      <td>14.046232</td>\n",
       "    </tr>\n",
       "    <tr>\n",
       "      <th>min</th>\n",
       "      <td>0.000000</td>\n",
       "      <td>1.000000</td>\n",
       "      <td>0.000000</td>\n",
       "    </tr>\n",
       "    <tr>\n",
       "      <th>25%</th>\n",
       "      <td>1330.000000</td>\n",
       "      <td>17.000000</td>\n",
       "      <td>15.000000</td>\n",
       "    </tr>\n",
       "    <tr>\n",
       "      <th>50%</th>\n",
       "      <td>2660.000000</td>\n",
       "      <td>27.000000</td>\n",
       "      <td>24.000000</td>\n",
       "    </tr>\n",
       "    <tr>\n",
       "      <th>75%</th>\n",
       "      <td>3990.000000</td>\n",
       "      <td>38.000000</td>\n",
       "      <td>34.000000</td>\n",
       "    </tr>\n",
       "    <tr>\n",
       "      <th>max</th>\n",
       "      <td>5320.000000</td>\n",
       "      <td>103.000000</td>\n",
       "      <td>94.000000</td>\n",
       "    </tr>\n",
       "  </tbody>\n",
       "</table>\n",
       "</div>"
      ],
      "text/plain": [
       "           shop_id  quantity_photo  coincidence_all\n",
       "count  5321.000000     5321.000000      5321.000000\n",
       "mean   2660.000000       28.190190        25.085510\n",
       "std    1536.184722       15.229828        14.046232\n",
       "min       0.000000        1.000000         0.000000\n",
       "25%    1330.000000       17.000000        15.000000\n",
       "50%    2660.000000       27.000000        24.000000\n",
       "75%    3990.000000       38.000000        34.000000\n",
       "max    5320.000000      103.000000        94.000000"
      ]
     },
     "execution_count": 66,
     "metadata": {},
     "output_type": "execute_result"
    }
   ],
   "source": [
    "df_8.describe()"
   ]
  },
  {
   "cell_type": "markdown",
   "id": "ae24b5ce",
   "metadata": {},
   "source": [
    "У нас есть магазины с 1 сканированием, что также влияет на метрику, следует оценивать магазины где, например, более 10 сканирований"
   ]
  },
  {
   "cell_type": "code",
   "execution_count": 67,
   "id": "fb87f1b3",
   "metadata": {},
   "outputs": [],
   "source": [
    "df_8 = df_8.query(\"quantity_photo > 10\")"
   ]
  },
  {
   "cell_type": "markdown",
   "id": "7fa7ed38",
   "metadata": {},
   "source": [
    "Считаем метрику:"
   ]
  },
  {
   "cell_type": "code",
   "execution_count": 68,
   "id": "5d089bda",
   "metadata": {},
   "outputs": [],
   "source": [
    "df_8[\"coincidence_all\"] = round(df_8.coincidence_all / df_8.quantity_photo, 2)"
   ]
  },
  {
   "cell_type": "markdown",
   "id": "0bbecc51",
   "metadata": {},
   "source": [
    "Видно, что в части магазинов действительно западает распознование, например, распознавание менее 50% характеризует 43 магазина, тогда как распознавание от 50 и выше характеризует уже 4646 магазинов"
   ]
  },
  {
   "cell_type": "code",
   "execution_count": 69,
   "id": "c29ed8b1",
   "metadata": {},
   "outputs": [
    {
     "data": {
      "text/plain": [
       "43"
      ]
     },
     "execution_count": 69,
     "metadata": {},
     "output_type": "execute_result"
    }
   ],
   "source": [
    "df_8.query(\"coincidence_all < 0.50\").shape[0]"
   ]
  },
  {
   "cell_type": "code",
   "execution_count": 70,
   "id": "dd815ae4",
   "metadata": {},
   "outputs": [
    {
     "data": {
      "text/plain": [
       "4646"
      ]
     },
     "execution_count": 70,
     "metadata": {},
     "output_type": "execute_result"
    }
   ],
   "source": [
    "df_8.query(\"coincidence_all >= 0.50\").shape[0]"
   ]
  },
  {
   "cell_type": "markdown",
   "id": "2d0e0388",
   "metadata": {},
   "source": [
    "В целом, небольшой вес от общего кол-ва магазинов. Но можно сделать вывод, что распознавание затруднено в конкретных магазинах. Гипотеза верна."
   ]
  },
  {
   "cell_type": "markdown",
   "id": "006090d9",
   "metadata": {},
   "source": [
    "# Дополнительная задача"
   ]
  },
  {
   "cell_type": "markdown",
   "id": "c84862f6",
   "metadata": {},
   "source": [
    "Составим список товаров для обучения в виде перечня product_id  \n",
    "Принимаем за аксиому то, что нельзя брать в обучение все товары, так как модель начинает хуже распознавать"
   ]
  },
  {
   "cell_type": "markdown",
   "id": "49533a56",
   "metadata": {},
   "source": [
    "Проверим количество уникальных продуктов по id"
   ]
  },
  {
   "cell_type": "code",
   "execution_count": 71,
   "id": "1ad68c84",
   "metadata": {},
   "outputs": [
    {
     "data": {
      "text/plain": [
       "1609"
      ]
     },
     "execution_count": 71,
     "metadata": {},
     "output_type": "execute_result"
    }
   ],
   "source": [
    "df.confirmed_product_id.nunique()"
   ]
  },
  {
   "cell_type": "markdown",
   "id": "1b27456b",
   "metadata": {},
   "source": [
    "Также проверим количество и выведем уникальные продуктовые группы"
   ]
  },
  {
   "cell_type": "code",
   "execution_count": 72,
   "id": "6ece6c24",
   "metadata": {},
   "outputs": [
    {
     "data": {
      "text/plain": [
       "36"
      ]
     },
     "execution_count": 72,
     "metadata": {},
     "output_type": "execute_result"
    }
   ],
   "source": [
    "df.prod_group_name.nunique()"
   ]
  },
  {
   "cell_type": "code",
   "execution_count": 73,
   "id": "e2a57dac",
   "metadata": {
    "scrolled": true
   },
   "outputs": [
    {
     "data": {
      "text/plain": [
       "array(['вина, винные напитки', 'слабоалкогольные напитки',\n",
       "       'коньяк, арманьяк, бренди, кальвадос', 'водка',\n",
       "       'игристые вина, напитки и шампанское', 'напитки безалкогольные',\n",
       "       'пиво лицензионное', 'снэки', 'виски, висковые напитки, бурбоны',\n",
       "       'настойки, наливки', 'кондитерские изделия',\n",
       "       'аперитивы, бальзамы, вермуты, ликеры', 'бакалея', 'консервация',\n",
       "       'пиво отечественное', 'молочные, кисломолочные продукты',\n",
       "       'готовые блюда и кулинария', 'яйца',\n",
       "       'ром, джин, текила и прочие крепкие напитки',\n",
       "       'замороженная продукция', 'пиво импортное',\n",
       "       'товары для персонального использования', 'сыры',\n",
       "       'товары для животных', 'мясная гастрономия',\n",
       "       'сезонный ассортимент', 'товары для мониторинга', 'сигареты',\n",
       "       'нагреваемые табачные стики', 'девайсы многоразовые',\n",
       "       'разливное пиво', 'свежие фрукты и овощи',\n",
       "       'хлебобулочные изделия и выпечка', 'жевательная резинка',\n",
       "       'антиполицай, антипохмелин', 'хоз.товары и бытовая химия'],\n",
       "      dtype=object)"
      ]
     },
     "execution_count": 73,
     "metadata": {},
     "output_type": "execute_result"
    }
   ],
   "source": [
    "df.prod_group_name.unique()"
   ]
  },
  {
   "cell_type": "markdown",
   "id": "84aa7455",
   "metadata": {},
   "source": [
    "Дальше делаем тройную группировку от большего к меньшему: категория-группа-продукт и считаем количество фотографий для каждого продукта.\n",
    "Для подсчёта метрики суммируем все совпадения по продукторым группам.\n",
    "Также возьмём только те продукты, которые были сфотографированы не менее 10 раз, т.к. небольшое кол-во фотографий не может объективно отображать картину. Одна фотография по одному продукту даст или 100% или нулевой результат, в зависимости, что повлияет на наш выбор."
   ]
  },
  {
   "cell_type": "code",
   "execution_count": 74,
   "id": "48ca030a",
   "metadata": {},
   "outputs": [],
   "source": [
    "df_9 = df.groupby([\"prod_cat_name\", \"prod_group_name\", \"confirmed_product_id\"]) \\\n",
    "  .agg({\"dt_create\":\"count\", \"coincidence_prod\": \"sum\"}) \\\n",
    "  .sort_values([\"prod_cat_name\", \"dt_create\"]) \\\n",
    "  .rename(columns = {'dt_create':'quantity_photo'}) \\\n",
    "  .query(\"quantity_photo >= 10\")"
   ]
  },
  {
   "cell_type": "markdown",
   "id": "f18ca3f3",
   "metadata": {},
   "source": [
    "Считаем метрику как отношение всех фотографий к успешно-распознанным, чтобы получить оценку в разрезе каждого продукта."
   ]
  },
  {
   "cell_type": "code",
   "execution_count": 75,
   "id": "5dd6c375",
   "metadata": {},
   "outputs": [],
   "source": [
    "df_9[\"coincidence_prod\"] = round(df_9.coincidence_prod / df_9.quantity_photo, 2)"
   ]
  },
  {
   "cell_type": "markdown",
   "id": "f6d06eea",
   "metadata": {},
   "source": [
    "Для обучения модели выбираем кейсы с самыми эффективными распознаваниями продуктов. При среднем в 91% отберём только те, которые распознаются с частотой от 95%. Т.о. получим самые успешно обработанные фотографии продуктов."
   ]
  },
  {
   "cell_type": "code",
   "execution_count": 76,
   "id": "f6a9c9fc",
   "metadata": {},
   "outputs": [],
   "source": [
    "df_9 = df_9.query(\"coincidence_prod >= 0.95\")"
   ]
  },
  {
   "cell_type": "markdown",
   "id": "9a0b6457",
   "metadata": {},
   "source": [
    "Теперь можно выводить список id товаров, которые:\n",
    "\n",
    "0. были достаточно часто сфотографированы, чтобы мы были уверены в том, что это не случайный результат\n",
    "1. успешно распознавались не менее, чем в 95% случаев"
   ]
  },
  {
   "cell_type": "code",
   "execution_count": 77,
   "id": "8a36c260",
   "metadata": {},
   "outputs": [],
   "source": [
    "list_product_id = df_9.reset_index().confirmed_product_id.to_list()"
   ]
  },
  {
   "cell_type": "markdown",
   "id": "10da44ae-10ad-4184-ac75-06b84683e716",
   "metadata": {
    "id": "10da44ae-10ad-4184-ac75-06b84683e716"
   },
   "source": [
    "# SQL"
   ]
  },
  {
   "cell_type": "code",
   "execution_count": 78,
   "id": "e117930a-1a1a-45f8-9399-16298b4838cf",
   "metadata": {
    "id": "e117930a-1a1a-45f8-9399-16298b4838cf"
   },
   "outputs": [
    {
     "data": {
      "text/plain": [
       "150000"
      ]
     },
     "execution_count": 78,
     "metadata": {},
     "output_type": "execute_result"
    }
   ],
   "source": [
    "from sqlalchemy import create_engine\n",
    "engine = create_engine('sqlite://', echo=False)\n",
    "df.to_sql('data', con=engine, index=False)"
   ]
  },
  {
   "cell_type": "code",
   "execution_count": 115,
   "id": "563c115b-7dee-46cb-a49d-cfa68788a166",
   "metadata": {
    "id": "563c115b-7dee-46cb-a49d-cfa68788a166",
    "outputId": "80c3f2b1-83f7-44ef-d18d-0bc286c876dc"
   },
   "outputs": [
    {
     "data": {
      "text/html": [
       "<div>\n",
       "<style scoped>\n",
       "    .dataframe tbody tr th:only-of-type {\n",
       "        vertical-align: middle;\n",
       "    }\n",
       "\n",
       "    .dataframe tbody tr th {\n",
       "        vertical-align: top;\n",
       "    }\n",
       "\n",
       "    .dataframe thead th {\n",
       "        text-align: right;\n",
       "    }\n",
       "</style>\n",
       "<table border=\"1\" class=\"dataframe\">\n",
       "  <thead>\n",
       "    <tr style=\"text-align: right;\">\n",
       "      <th></th>\n",
       "      <th>dt_create</th>\n",
       "      <th>shop_id</th>\n",
       "      <th>competitor_id</th>\n",
       "      <th>prod_cat_name</th>\n",
       "      <th>prod_group_name</th>\n",
       "      <th>predicted_product_id</th>\n",
       "      <th>predicted_product_price</th>\n",
       "      <th>confirmed_product_id</th>\n",
       "      <th>confirmed_product_price</th>\n",
       "      <th>day_name</th>\n",
       "      <th>coincidence_prod</th>\n",
       "      <th>coincidence_price</th>\n",
       "      <th>coincidence_all</th>\n",
       "    </tr>\n",
       "  </thead>\n",
       "  <tbody>\n",
       "    <tr>\n",
       "      <th>0</th>\n",
       "      <td>2023-01-30 00:00:00.000000</td>\n",
       "      <td>3505</td>\n",
       "      <td>1</td>\n",
       "      <td>алкоголь</td>\n",
       "      <td>вина, винные напитки</td>\n",
       "      <td>9291.0</td>\n",
       "      <td>43999.0</td>\n",
       "      <td>9291</td>\n",
       "      <td>43999</td>\n",
       "      <td>Monday</td>\n",
       "      <td>1</td>\n",
       "      <td>1</td>\n",
       "      <td>1</td>\n",
       "    </tr>\n",
       "    <tr>\n",
       "      <th>1</th>\n",
       "      <td>2023-01-30 00:00:00.000000</td>\n",
       "      <td>1843</td>\n",
       "      <td>21</td>\n",
       "      <td>алкоголь</td>\n",
       "      <td>слабоалкогольные напитки</td>\n",
       "      <td>2020719.0</td>\n",
       "      <td>6999.0</td>\n",
       "      <td>10653</td>\n",
       "      <td>6999</td>\n",
       "      <td>Monday</td>\n",
       "      <td>0</td>\n",
       "      <td>1</td>\n",
       "      <td>0</td>\n",
       "    </tr>\n",
       "    <tr>\n",
       "      <th>2</th>\n",
       "      <td>2023-01-30 00:00:00.000000</td>\n",
       "      <td>966</td>\n",
       "      <td>0</td>\n",
       "      <td>алкоголь</td>\n",
       "      <td>вина, винные напитки</td>\n",
       "      <td>9377.0</td>\n",
       "      <td>53999.0</td>\n",
       "      <td>9377</td>\n",
       "      <td>53999</td>\n",
       "      <td>Monday</td>\n",
       "      <td>1</td>\n",
       "      <td>1</td>\n",
       "      <td>1</td>\n",
       "    </tr>\n",
       "    <tr>\n",
       "      <th>3</th>\n",
       "      <td>2023-01-30 00:00:00.000000</td>\n",
       "      <td>4468</td>\n",
       "      <td>1</td>\n",
       "      <td>алкоголь</td>\n",
       "      <td>коньяк, арманьяк, бренди, кальвадос</td>\n",
       "      <td>10413.0</td>\n",
       "      <td>15999.0</td>\n",
       "      <td>10413</td>\n",
       "      <td>15999</td>\n",
       "      <td>Monday</td>\n",
       "      <td>1</td>\n",
       "      <td>1</td>\n",
       "      <td>1</td>\n",
       "    </tr>\n",
       "    <tr>\n",
       "      <th>4</th>\n",
       "      <td>2023-01-30 00:00:00.000000</td>\n",
       "      <td>1843</td>\n",
       "      <td>21</td>\n",
       "      <td>алкоголь</td>\n",
       "      <td>водка</td>\n",
       "      <td>9814.0</td>\n",
       "      <td>32999.0</td>\n",
       "      <td>9814</td>\n",
       "      <td>32999</td>\n",
       "      <td>Monday</td>\n",
       "      <td>1</td>\n",
       "      <td>1</td>\n",
       "      <td>1</td>\n",
       "    </tr>\n",
       "    <tr>\n",
       "      <th>...</th>\n",
       "      <td>...</td>\n",
       "      <td>...</td>\n",
       "      <td>...</td>\n",
       "      <td>...</td>\n",
       "      <td>...</td>\n",
       "      <td>...</td>\n",
       "      <td>...</td>\n",
       "      <td>...</td>\n",
       "      <td>...</td>\n",
       "      <td>...</td>\n",
       "      <td>...</td>\n",
       "      <td>...</td>\n",
       "      <td>...</td>\n",
       "    </tr>\n",
       "    <tr>\n",
       "      <th>149995</th>\n",
       "      <td>2023-02-17 00:00:00.000000</td>\n",
       "      <td>2159</td>\n",
       "      <td>0</td>\n",
       "      <td>продукты</td>\n",
       "      <td>напитки безалкогольные</td>\n",
       "      <td>2794367.0</td>\n",
       "      <td>10499.0</td>\n",
       "      <td>2794367</td>\n",
       "      <td>10499</td>\n",
       "      <td>Friday</td>\n",
       "      <td>1</td>\n",
       "      <td>1</td>\n",
       "      <td>1</td>\n",
       "    </tr>\n",
       "    <tr>\n",
       "      <th>149996</th>\n",
       "      <td>2023-02-17 00:00:00.000000</td>\n",
       "      <td>740</td>\n",
       "      <td>1</td>\n",
       "      <td>продукты</td>\n",
       "      <td>консервация</td>\n",
       "      <td>12071.0</td>\n",
       "      <td>17499.0</td>\n",
       "      <td>12071</td>\n",
       "      <td>17499</td>\n",
       "      <td>Friday</td>\n",
       "      <td>1</td>\n",
       "      <td>1</td>\n",
       "      <td>1</td>\n",
       "    </tr>\n",
       "    <tr>\n",
       "      <th>149997</th>\n",
       "      <td>2023-02-17 00:00:00.000000</td>\n",
       "      <td>217</td>\n",
       "      <td>0</td>\n",
       "      <td>пиво</td>\n",
       "      <td>пиво отечественное</td>\n",
       "      <td>10929.0</td>\n",
       "      <td>5699.0</td>\n",
       "      <td>10929</td>\n",
       "      <td>5699</td>\n",
       "      <td>Friday</td>\n",
       "      <td>1</td>\n",
       "      <td>1</td>\n",
       "      <td>1</td>\n",
       "    </tr>\n",
       "    <tr>\n",
       "      <th>149998</th>\n",
       "      <td>2023-02-17 00:00:00.000000</td>\n",
       "      <td>264</td>\n",
       "      <td>0</td>\n",
       "      <td>алкоголь</td>\n",
       "      <td>водка</td>\n",
       "      <td>9755.0</td>\n",
       "      <td>14499.0</td>\n",
       "      <td>9755</td>\n",
       "      <td>14499</td>\n",
       "      <td>Friday</td>\n",
       "      <td>1</td>\n",
       "      <td>1</td>\n",
       "      <td>1</td>\n",
       "    </tr>\n",
       "    <tr>\n",
       "      <th>149999</th>\n",
       "      <td>2023-02-17 00:00:00.000000</td>\n",
       "      <td>4565</td>\n",
       "      <td>145</td>\n",
       "      <td>продукты</td>\n",
       "      <td>снэки</td>\n",
       "      <td>12709.0</td>\n",
       "      <td>16732.0</td>\n",
       "      <td>12709</td>\n",
       "      <td>16732</td>\n",
       "      <td>Friday</td>\n",
       "      <td>1</td>\n",
       "      <td>1</td>\n",
       "      <td>1</td>\n",
       "    </tr>\n",
       "  </tbody>\n",
       "</table>\n",
       "<p>150000 rows × 13 columns</p>\n",
       "</div>"
      ],
      "text/plain": [
       "                         dt_create  shop_id  competitor_id prod_cat_name  \\\n",
       "0       2023-01-30 00:00:00.000000     3505              1      алкоголь   \n",
       "1       2023-01-30 00:00:00.000000     1843             21      алкоголь   \n",
       "2       2023-01-30 00:00:00.000000      966              0      алкоголь   \n",
       "3       2023-01-30 00:00:00.000000     4468              1      алкоголь   \n",
       "4       2023-01-30 00:00:00.000000     1843             21      алкоголь   \n",
       "...                            ...      ...            ...           ...   \n",
       "149995  2023-02-17 00:00:00.000000     2159              0      продукты   \n",
       "149996  2023-02-17 00:00:00.000000      740              1      продукты   \n",
       "149997  2023-02-17 00:00:00.000000      217              0          пиво   \n",
       "149998  2023-02-17 00:00:00.000000      264              0      алкоголь   \n",
       "149999  2023-02-17 00:00:00.000000     4565            145      продукты   \n",
       "\n",
       "                            prod_group_name  predicted_product_id  \\\n",
       "0                      вина, винные напитки                9291.0   \n",
       "1                  слабоалкогольные напитки             2020719.0   \n",
       "2                      вина, винные напитки                9377.0   \n",
       "3       коньяк, арманьяк, бренди, кальвадос               10413.0   \n",
       "4                                     водка                9814.0   \n",
       "...                                     ...                   ...   \n",
       "149995               напитки безалкогольные             2794367.0   \n",
       "149996                          консервация               12071.0   \n",
       "149997                   пиво отечественное               10929.0   \n",
       "149998                                водка                9755.0   \n",
       "149999                                снэки               12709.0   \n",
       "\n",
       "        predicted_product_price  confirmed_product_id  \\\n",
       "0                       43999.0                  9291   \n",
       "1                        6999.0                 10653   \n",
       "2                       53999.0                  9377   \n",
       "3                       15999.0                 10413   \n",
       "4                       32999.0                  9814   \n",
       "...                         ...                   ...   \n",
       "149995                  10499.0               2794367   \n",
       "149996                  17499.0                 12071   \n",
       "149997                   5699.0                 10929   \n",
       "149998                  14499.0                  9755   \n",
       "149999                  16732.0                 12709   \n",
       "\n",
       "        confirmed_product_price day_name  coincidence_prod  coincidence_price  \\\n",
       "0                         43999   Monday                 1                  1   \n",
       "1                          6999   Monday                 0                  1   \n",
       "2                         53999   Monday                 1                  1   \n",
       "3                         15999   Monday                 1                  1   \n",
       "4                         32999   Monday                 1                  1   \n",
       "...                         ...      ...               ...                ...   \n",
       "149995                    10499   Friday                 1                  1   \n",
       "149996                    17499   Friday                 1                  1   \n",
       "149997                     5699   Friday                 1                  1   \n",
       "149998                    14499   Friday                 1                  1   \n",
       "149999                    16732   Friday                 1                  1   \n",
       "\n",
       "        coincidence_all  \n",
       "0                     1  \n",
       "1                     0  \n",
       "2                     1  \n",
       "3                     1  \n",
       "4                     1  \n",
       "...                 ...  \n",
       "149995                1  \n",
       "149996                1  \n",
       "149997                1  \n",
       "149998                1  \n",
       "149999                1  \n",
       "\n",
       "[150000 rows x 13 columns]"
      ]
     },
     "execution_count": 115,
     "metadata": {},
     "output_type": "execute_result"
    }
   ],
   "source": [
    "sql_code = \"\"\"\n",
    "            \n",
    "            \n",
    "            SELECT *\n",
    "            FROM data\n",
    "              \n",
    "              \n",
    "        \"\"\"\n",
    "temp = pd.read_sql(sql_code, engine)\n",
    "temp"
   ]
  },
  {
   "cell_type": "markdown",
   "id": "6a14adbf-b337-4cc0-bd02-79bcf0310db2",
   "metadata": {
    "id": "6a14adbf-b337-4cc0-bd02-79bcf0310db2"
   },
   "source": [
    "### 1. Сколько всего уникальных магазинов, конкурентов и продуктов? "
   ]
  },
  {
   "cell_type": "code",
   "execution_count": 80,
   "id": "34beb718-a072-4d96-a6cb-8d594eee0fb6",
   "metadata": {
    "id": "34beb718-a072-4d96-a6cb-8d594eee0fb6"
   },
   "outputs": [
    {
     "data": {
      "text/html": [
       "<div>\n",
       "<style scoped>\n",
       "    .dataframe tbody tr th:only-of-type {\n",
       "        vertical-align: middle;\n",
       "    }\n",
       "\n",
       "    .dataframe tbody tr th {\n",
       "        vertical-align: top;\n",
       "    }\n",
       "\n",
       "    .dataframe thead th {\n",
       "        text-align: right;\n",
       "    }\n",
       "</style>\n",
       "<table border=\"1\" class=\"dataframe\">\n",
       "  <thead>\n",
       "    <tr style=\"text-align: right;\">\n",
       "      <th></th>\n",
       "      <th>quantity_shops</th>\n",
       "      <th>quantity_competitors</th>\n",
       "      <th>quantity_products</th>\n",
       "    </tr>\n",
       "  </thead>\n",
       "  <tbody>\n",
       "    <tr>\n",
       "      <th>0</th>\n",
       "      <td>5321</td>\n",
       "      <td>380</td>\n",
       "      <td>1609</td>\n",
       "    </tr>\n",
       "  </tbody>\n",
       "</table>\n",
       "</div>"
      ],
      "text/plain": [
       "   quantity_shops  quantity_competitors  quantity_products\n",
       "0            5321                   380               1609"
      ]
     },
     "execution_count": 80,
     "metadata": {},
     "output_type": "execute_result"
    }
   ],
   "source": [
    "sql_code = \"\"\"\n",
    "            \n",
    "            \n",
    "            SELECT COUNT(DISTINCT shop_id) AS quantity_shops, \n",
    "                   COUNT(DISTINCT competitor_id) AS quantity_competitors,\n",
    "                   COUNT(DISTINCT confirmed_product_id) AS quantity_products\n",
    "            FROM data\n",
    "              \n",
    "              \n",
    "        \"\"\"\n",
    "temp = pd.read_sql(sql_code, engine)\n",
    "temp"
   ]
  },
  {
   "cell_type": "markdown",
   "id": "57d75373-2ae9-4d79-9f41-d70b5ee1809a",
   "metadata": {
    "id": "57d75373-2ae9-4d79-9f41-d70b5ee1809a"
   },
   "source": [
    "### 2. Выведем среднее количество строк по каждому дню недели в порядке убывания "
   ]
  },
  {
   "cell_type": "code",
   "execution_count": 81,
   "id": "3912b6ce-1bbc-48aa-bfac-3c94a4a576d6",
   "metadata": {
    "id": "3912b6ce-1bbc-48aa-bfac-3c94a4a576d6"
   },
   "outputs": [
    {
     "data": {
      "text/html": [
       "<div>\n",
       "<style scoped>\n",
       "    .dataframe tbody tr th:only-of-type {\n",
       "        vertical-align: middle;\n",
       "    }\n",
       "\n",
       "    .dataframe tbody tr th {\n",
       "        vertical-align: top;\n",
       "    }\n",
       "\n",
       "    .dataframe thead th {\n",
       "        text-align: right;\n",
       "    }\n",
       "</style>\n",
       "<table border=\"1\" class=\"dataframe\">\n",
       "  <thead>\n",
       "    <tr style=\"text-align: right;\">\n",
       "      <th></th>\n",
       "      <th>day_name</th>\n",
       "      <th>avg_quantity</th>\n",
       "    </tr>\n",
       "  </thead>\n",
       "  <tbody>\n",
       "    <tr>\n",
       "      <th>0</th>\n",
       "      <td>Thursday</td>\n",
       "      <td>11002.33</td>\n",
       "    </tr>\n",
       "    <tr>\n",
       "      <th>1</th>\n",
       "      <td>Tuesday</td>\n",
       "      <td>10148.67</td>\n",
       "    </tr>\n",
       "    <tr>\n",
       "      <th>2</th>\n",
       "      <td>Friday</td>\n",
       "      <td>9991.00</td>\n",
       "    </tr>\n",
       "    <tr>\n",
       "      <th>3</th>\n",
       "      <td>Monday</td>\n",
       "      <td>9962.33</td>\n",
       "    </tr>\n",
       "    <tr>\n",
       "      <th>4</th>\n",
       "      <td>Wednesday</td>\n",
       "      <td>8895.67</td>\n",
       "    </tr>\n",
       "  </tbody>\n",
       "</table>\n",
       "</div>"
      ],
      "text/plain": [
       "    day_name  avg_quantity\n",
       "0   Thursday      11002.33\n",
       "1    Tuesday      10148.67\n",
       "2     Friday       9991.00\n",
       "3     Monday       9962.33\n",
       "4  Wednesday       8895.67"
      ]
     },
     "execution_count": 81,
     "metadata": {},
     "output_type": "execute_result"
    }
   ],
   "source": [
    "sql_code = \"\"\"\n",
    "            \n",
    "            \n",
    "            SELECT day_name, ROUND(AVG(quantity_lines), 2) AS avg_quantity\n",
    "            FROM(\n",
    "            SELECT day_name, COUNT(*) AS quantity_lines\n",
    "            FROM data\n",
    "            GROUP BY dt_create)\n",
    "            GROUP BY day_name\n",
    "            ORDER BY avg_quantity DESC\n",
    "            \n",
    "\n",
    "        \"\"\"\n",
    "temp = pd.read_sql(sql_code, engine)\n",
    "temp"
   ]
  },
  {
   "cell_type": "markdown",
   "id": "41808b96-a9be-44d2-9310-df278bef59e1",
   "metadata": {
    "id": "41808b96-a9be-44d2-9310-df278bef59e1"
   },
   "source": [
    "### 3. Какую категорию сотрудники магазинов фотографируют чаще всего?"
   ]
  },
  {
   "cell_type": "code",
   "execution_count": 82,
   "id": "a4f6adb3-4dd2-4220-9d9c-e6d072123515",
   "metadata": {
    "id": "a4f6adb3-4dd2-4220-9d9c-e6d072123515"
   },
   "outputs": [
    {
     "data": {
      "text/html": [
       "<div>\n",
       "<style scoped>\n",
       "    .dataframe tbody tr th:only-of-type {\n",
       "        vertical-align: middle;\n",
       "    }\n",
       "\n",
       "    .dataframe tbody tr th {\n",
       "        vertical-align: top;\n",
       "    }\n",
       "\n",
       "    .dataframe thead th {\n",
       "        text-align: right;\n",
       "    }\n",
       "</style>\n",
       "<table border=\"1\" class=\"dataframe\">\n",
       "  <thead>\n",
       "    <tr style=\"text-align: right;\">\n",
       "      <th></th>\n",
       "      <th>prod_cat_name</th>\n",
       "    </tr>\n",
       "  </thead>\n",
       "  <tbody>\n",
       "    <tr>\n",
       "      <th>0</th>\n",
       "      <td>алкоголь</td>\n",
       "    </tr>\n",
       "  </tbody>\n",
       "</table>\n",
       "</div>"
      ],
      "text/plain": [
       "  prod_cat_name\n",
       "0      алкоголь"
      ]
     },
     "execution_count": 82,
     "metadata": {},
     "output_type": "execute_result"
    }
   ],
   "source": [
    "sql_code = \"\"\"\n",
    "           \n",
    "           \n",
    "            SELECT prod_cat_name\n",
    "            FROM data\n",
    "            GROUP BY prod_cat_name\n",
    "            ORDER BY COUNT(*) DESC\n",
    "            LIMIT 1\n",
    "            \n",
    "              \n",
    "        \"\"\"\n",
    "temp = pd.read_sql(sql_code, engine)\n",
    "temp"
   ]
  },
  {
   "cell_type": "markdown",
   "id": "11d7f416-7d81-481a-81e8-f5d4761f6cd4",
   "metadata": {
    "id": "11d7f416-7d81-481a-81e8-f5d4761f6cd4"
   },
   "source": [
    "### 4. Какое среднее распознавание в топ-2 конкурентах?"
   ]
  },
  {
   "cell_type": "code",
   "execution_count": 83,
   "id": "6afce834-59c0-4d41-a3e2-5e65dd2ab639",
   "metadata": {
    "id": "6afce834-59c0-4d41-a3e2-5e65dd2ab639"
   },
   "outputs": [
    {
     "data": {
      "text/html": [
       "<div>\n",
       "<style scoped>\n",
       "    .dataframe tbody tr th:only-of-type {\n",
       "        vertical-align: middle;\n",
       "    }\n",
       "\n",
       "    .dataframe tbody tr th {\n",
       "        vertical-align: top;\n",
       "    }\n",
       "\n",
       "    .dataframe thead th {\n",
       "        text-align: right;\n",
       "    }\n",
       "</style>\n",
       "<table border=\"1\" class=\"dataframe\">\n",
       "  <thead>\n",
       "    <tr style=\"text-align: right;\">\n",
       "      <th></th>\n",
       "      <th>competitor_id</th>\n",
       "      <th>coincidence_prod</th>\n",
       "      <th>coincidence_price</th>\n",
       "      <th>avg_coincidence</th>\n",
       "    </tr>\n",
       "  </thead>\n",
       "  <tbody>\n",
       "    <tr>\n",
       "      <th>0</th>\n",
       "      <td>0</td>\n",
       "      <td>0.92</td>\n",
       "      <td>0.95</td>\n",
       "      <td>0.935</td>\n",
       "    </tr>\n",
       "    <tr>\n",
       "      <th>1</th>\n",
       "      <td>1</td>\n",
       "      <td>0.94</td>\n",
       "      <td>0.96</td>\n",
       "      <td>0.950</td>\n",
       "    </tr>\n",
       "  </tbody>\n",
       "</table>\n",
       "</div>"
      ],
      "text/plain": [
       "   competitor_id  coincidence_prod  coincidence_price  avg_coincidence\n",
       "0              0              0.92               0.95            0.935\n",
       "1              1              0.94               0.96            0.950"
      ]
     },
     "execution_count": 83,
     "metadata": {},
     "output_type": "execute_result"
    }
   ],
   "source": [
    "sql_code = \"\"\"\n",
    "            \n",
    "            \n",
    "            SELECT competitor_id, coincidence_prod, coincidence_price, \n",
    "                   (coincidence_prod + coincidence_price)/2 AS avg_coincidence\n",
    "            FROM\n",
    "            (\n",
    "            SELECT data_1.competitor_id, \n",
    "                   COALESCE(ROUND(CAST(coincidence_product_id AS FLOAT)/CAST(all_lines AS FLOAT), 2), 0) AS coincidence_prod,\n",
    "                   COALESCE(ROUND(CAST(coincidence_product_price AS FLOAT)/CAST(all_lines AS FLOAT), 2), 0) AS coincidence_price\n",
    "            FROM\n",
    "            (\n",
    "            SELECT competitor_id, COUNT(*) AS all_lines\n",
    "            FROM data\n",
    "            GROUP BY competitor_id\n",
    "            ) AS data_1 LEFT JOIN\n",
    "            (\n",
    "            SELECT competitor_id, COUNT(*) AS coincidence_product_id\n",
    "            FROM data\n",
    "            WHERE predicted_product_id = confirmed_product_id\n",
    "            GROUP BY competitor_id\n",
    "            ) AS data_2\n",
    "            ON data_1.competitor_id = data_2.competitor_id\n",
    "            LEFT JOIN\n",
    "            (\n",
    "            SELECT competitor_id, COUNT(*) AS coincidence_product_price\n",
    "            FROM data\n",
    "            WHERE predicted_product_price = confirmed_product_price\n",
    "            GROUP BY competitor_id\n",
    "            ) AS data_3\n",
    "            ON data_1.competitor_id = data_3.competitor_id\n",
    "            ORDER BY all_lines DESC\n",
    "            LIMIT 2\n",
    "            )\n",
    "            \n",
    "              \n",
    "        \"\"\"\n",
    "temp = pd.read_sql(sql_code, engine)\n",
    "temp"
   ]
  },
  {
   "cell_type": "markdown",
   "id": "fdb28966-5f1e-4983-8ef8-6a0c3c451a54",
   "metadata": {
    "id": "fdb28966-5f1e-4983-8ef8-6a0c3c451a54"
   },
   "source": [
    "### 5. Выведем топ-3 группы продуктов по количеству строк за каждый день недели"
   ]
  },
  {
   "cell_type": "code",
   "execution_count": 114,
   "id": "3f01edde-dc05-4194-8f67-e399b88544a2",
   "metadata": {
    "id": "3f01edde-dc05-4194-8f67-e399b88544a2"
   },
   "outputs": [
    {
     "data": {
      "text/html": [
       "<div>\n",
       "<style scoped>\n",
       "    .dataframe tbody tr th:only-of-type {\n",
       "        vertical-align: middle;\n",
       "    }\n",
       "\n",
       "    .dataframe tbody tr th {\n",
       "        vertical-align: top;\n",
       "    }\n",
       "\n",
       "    .dataframe thead th {\n",
       "        text-align: right;\n",
       "    }\n",
       "</style>\n",
       "<table border=\"1\" class=\"dataframe\">\n",
       "  <thead>\n",
       "    <tr style=\"text-align: right;\">\n",
       "      <th></th>\n",
       "      <th>day</th>\n",
       "      <th>prod_group_name</th>\n",
       "      <th>quantity_prod</th>\n",
       "    </tr>\n",
       "  </thead>\n",
       "  <tbody>\n",
       "    <tr>\n",
       "      <th>0</th>\n",
       "      <td>1</td>\n",
       "      <td>водка</td>\n",
       "      <td>5585</td>\n",
       "    </tr>\n",
       "    <tr>\n",
       "      <th>1</th>\n",
       "      <td>1</td>\n",
       "      <td>пиво лицензионное</td>\n",
       "      <td>4244</td>\n",
       "    </tr>\n",
       "    <tr>\n",
       "      <th>2</th>\n",
       "      <td>1</td>\n",
       "      <td>кондитерские изделия</td>\n",
       "      <td>3071</td>\n",
       "    </tr>\n",
       "    <tr>\n",
       "      <th>3</th>\n",
       "      <td>2</td>\n",
       "      <td>водка</td>\n",
       "      <td>5719</td>\n",
       "    </tr>\n",
       "    <tr>\n",
       "      <th>4</th>\n",
       "      <td>2</td>\n",
       "      <td>пиво лицензионное</td>\n",
       "      <td>4389</td>\n",
       "    </tr>\n",
       "    <tr>\n",
       "      <th>5</th>\n",
       "      <td>2</td>\n",
       "      <td>кондитерские изделия</td>\n",
       "      <td>3079</td>\n",
       "    </tr>\n",
       "    <tr>\n",
       "      <th>6</th>\n",
       "      <td>3</td>\n",
       "      <td>водка</td>\n",
       "      <td>5399</td>\n",
       "    </tr>\n",
       "    <tr>\n",
       "      <th>7</th>\n",
       "      <td>3</td>\n",
       "      <td>пиво лицензионное</td>\n",
       "      <td>3938</td>\n",
       "    </tr>\n",
       "    <tr>\n",
       "      <th>8</th>\n",
       "      <td>3</td>\n",
       "      <td>напитки безалкогольные</td>\n",
       "      <td>2918</td>\n",
       "    </tr>\n",
       "    <tr>\n",
       "      <th>9</th>\n",
       "      <td>4</td>\n",
       "      <td>водка</td>\n",
       "      <td>5644</td>\n",
       "    </tr>\n",
       "    <tr>\n",
       "      <th>10</th>\n",
       "      <td>4</td>\n",
       "      <td>пиво лицензионное</td>\n",
       "      <td>4730</td>\n",
       "    </tr>\n",
       "    <tr>\n",
       "      <th>11</th>\n",
       "      <td>4</td>\n",
       "      <td>кондитерские изделия</td>\n",
       "      <td>3445</td>\n",
       "    </tr>\n",
       "    <tr>\n",
       "      <th>12</th>\n",
       "      <td>5</td>\n",
       "      <td>водка</td>\n",
       "      <td>5606</td>\n",
       "    </tr>\n",
       "    <tr>\n",
       "      <th>13</th>\n",
       "      <td>5</td>\n",
       "      <td>пиво лицензионное</td>\n",
       "      <td>4291</td>\n",
       "    </tr>\n",
       "    <tr>\n",
       "      <th>14</th>\n",
       "      <td>5</td>\n",
       "      <td>напитки безалкогольные</td>\n",
       "      <td>3057</td>\n",
       "    </tr>\n",
       "  </tbody>\n",
       "</table>\n",
       "</div>"
      ],
      "text/plain": [
       "   day         prod_group_name  quantity_prod\n",
       "0    1                   водка           5585\n",
       "1    1       пиво лицензионное           4244\n",
       "2    1    кондитерские изделия           3071\n",
       "3    2                   водка           5719\n",
       "4    2       пиво лицензионное           4389\n",
       "5    2    кондитерские изделия           3079\n",
       "6    3                   водка           5399\n",
       "7    3       пиво лицензионное           3938\n",
       "8    3  напитки безалкогольные           2918\n",
       "9    4                   водка           5644\n",
       "10   4       пиво лицензионное           4730\n",
       "11   4    кондитерские изделия           3445\n",
       "12   5                   водка           5606\n",
       "13   5       пиво лицензионное           4291\n",
       "14   5  напитки безалкогольные           3057"
      ]
     },
     "execution_count": 114,
     "metadata": {},
     "output_type": "execute_result"
    }
   ],
   "source": [
    "sql_code = \"\"\"\n",
    "            \n",
    "\n",
    "            SELECT *\n",
    "            FROM(\n",
    "            SELECT STRFTIME('%w', dt_create) AS day, prod_group_name, COUNT(*) AS quantity_prod\n",
    "            FROM data\n",
    "            GROUP BY day, prod_group_name\n",
    "            HAVING day = '1'\n",
    "            ORDER BY COUNT(*) DESC\n",
    "            LIMIT 3)\n",
    "            \n",
    "            UNION ALL\n",
    "            \n",
    "            SELECT *\n",
    "            FROM(\n",
    "            SELECT STRFTIME('%w', dt_create) AS day, prod_group_name, COUNT(*) AS quantity_prod\n",
    "            FROM data\n",
    "            GROUP BY day, prod_group_name\n",
    "            HAVING day = '2'\n",
    "            ORDER BY COUNT(*) DESC\n",
    "            LIMIT 3)\n",
    "\n",
    "            UNION ALL\n",
    "            \n",
    "            SELECT *\n",
    "            FROM(\n",
    "            SELECT STRFTIME('%w', dt_create) AS day, prod_group_name, COUNT(*) AS quantity_prod\n",
    "            FROM data\n",
    "            GROUP BY day, prod_group_name\n",
    "            HAVING day = '3'\n",
    "            ORDER BY COUNT(*) DESC\n",
    "            LIMIT 3)\n",
    "            \n",
    "            UNION ALL\n",
    "            \n",
    "            SELECT *\n",
    "            FROM(\n",
    "            SELECT STRFTIME('%w', dt_create) AS day, prod_group_name, COUNT(*) AS quantity_prod\n",
    "            FROM data\n",
    "            GROUP BY day, prod_group_name\n",
    "            HAVING day = '4'\n",
    "            ORDER BY COUNT(*) DESC\n",
    "            LIMIT 3)\n",
    "            \n",
    "            UNION ALL\n",
    "            \n",
    "            SELECT *\n",
    "            FROM(\n",
    "            SELECT STRFTIME('%w', dt_create) AS day, prod_group_name, COUNT(*) AS quantity_prod\n",
    "            FROM data\n",
    "            GROUP BY day, prod_group_name\n",
    "            HAVING day = '5'\n",
    "            ORDER BY COUNT(*) DESC\n",
    "            LIMIT 3)\n",
    "\n",
    "                \n",
    "        \"\"\"\n",
    "temp = pd.read_sql(sql_code, engine)\n",
    "temp"
   ]
  },
  {
   "cell_type": "markdown",
   "id": "921d5a46",
   "metadata": {},
   "source": [
    "Решение через оконную функцию"
   ]
  },
  {
   "cell_type": "code",
   "execution_count": 111,
   "id": "b6e6af55",
   "metadata": {},
   "outputs": [
    {
     "data": {
      "text/html": [
       "<div>\n",
       "<style scoped>\n",
       "    .dataframe tbody tr th:only-of-type {\n",
       "        vertical-align: middle;\n",
       "    }\n",
       "\n",
       "    .dataframe tbody tr th {\n",
       "        vertical-align: top;\n",
       "    }\n",
       "\n",
       "    .dataframe thead th {\n",
       "        text-align: right;\n",
       "    }\n",
       "</style>\n",
       "<table border=\"1\" class=\"dataframe\">\n",
       "  <thead>\n",
       "    <tr style=\"text-align: right;\">\n",
       "      <th></th>\n",
       "      <th>day</th>\n",
       "      <th>prod_group_name</th>\n",
       "    </tr>\n",
       "  </thead>\n",
       "  <tbody>\n",
       "    <tr>\n",
       "      <th>0</th>\n",
       "      <td>1</td>\n",
       "      <td>водка</td>\n",
       "    </tr>\n",
       "    <tr>\n",
       "      <th>1</th>\n",
       "      <td>1</td>\n",
       "      <td>пиво лицензионное</td>\n",
       "    </tr>\n",
       "    <tr>\n",
       "      <th>2</th>\n",
       "      <td>1</td>\n",
       "      <td>кондитерские изделия</td>\n",
       "    </tr>\n",
       "    <tr>\n",
       "      <th>3</th>\n",
       "      <td>2</td>\n",
       "      <td>водка</td>\n",
       "    </tr>\n",
       "    <tr>\n",
       "      <th>4</th>\n",
       "      <td>2</td>\n",
       "      <td>пиво лицензионное</td>\n",
       "    </tr>\n",
       "    <tr>\n",
       "      <th>5</th>\n",
       "      <td>2</td>\n",
       "      <td>кондитерские изделия</td>\n",
       "    </tr>\n",
       "    <tr>\n",
       "      <th>6</th>\n",
       "      <td>3</td>\n",
       "      <td>водка</td>\n",
       "    </tr>\n",
       "    <tr>\n",
       "      <th>7</th>\n",
       "      <td>3</td>\n",
       "      <td>пиво лицензионное</td>\n",
       "    </tr>\n",
       "    <tr>\n",
       "      <th>8</th>\n",
       "      <td>3</td>\n",
       "      <td>напитки безалкогольные</td>\n",
       "    </tr>\n",
       "    <tr>\n",
       "      <th>9</th>\n",
       "      <td>4</td>\n",
       "      <td>водка</td>\n",
       "    </tr>\n",
       "    <tr>\n",
       "      <th>10</th>\n",
       "      <td>4</td>\n",
       "      <td>пиво лицензионное</td>\n",
       "    </tr>\n",
       "    <tr>\n",
       "      <th>11</th>\n",
       "      <td>4</td>\n",
       "      <td>кондитерские изделия</td>\n",
       "    </tr>\n",
       "    <tr>\n",
       "      <th>12</th>\n",
       "      <td>5</td>\n",
       "      <td>водка</td>\n",
       "    </tr>\n",
       "    <tr>\n",
       "      <th>13</th>\n",
       "      <td>5</td>\n",
       "      <td>пиво лицензионное</td>\n",
       "    </tr>\n",
       "    <tr>\n",
       "      <th>14</th>\n",
       "      <td>5</td>\n",
       "      <td>напитки безалкогольные</td>\n",
       "    </tr>\n",
       "  </tbody>\n",
       "</table>\n",
       "</div>"
      ],
      "text/plain": [
       "   day         prod_group_name\n",
       "0    1                   водка\n",
       "1    1       пиво лицензионное\n",
       "2    1    кондитерские изделия\n",
       "3    2                   водка\n",
       "4    2       пиво лицензионное\n",
       "5    2    кондитерские изделия\n",
       "6    3                   водка\n",
       "7    3       пиво лицензионное\n",
       "8    3  напитки безалкогольные\n",
       "9    4                   водка\n",
       "10   4       пиво лицензионное\n",
       "11   4    кондитерские изделия\n",
       "12   5                   водка\n",
       "13   5       пиво лицензионное\n",
       "14   5  напитки безалкогольные"
      ]
     },
     "execution_count": 111,
     "metadata": {},
     "output_type": "execute_result"
    }
   ],
   "source": [
    "sql_code = \"\"\"\n",
    "            \n",
    "            \n",
    "            WITH t_count AS\n",
    "            (\n",
    "                SELECT STRFTIME('%w', dt_create) AS day, \n",
    "                       prod_group_name, COUNT(*) AS quantity_prod\n",
    "                FROM data\n",
    "                GROUP BY day, \n",
    "                         prod_group_name\n",
    "                ORDER BY COUNT(*) DESC\n",
    "            )\n",
    "            \n",
    "            SELECT day,\n",
    "                   prod_group_name\n",
    "            FROM\n",
    "            (\n",
    "                SELECT *, ROW_NUMBER() OVER(PARTITION BY day) AS rownum\n",
    "                FROM t_count\n",
    "            )\n",
    "            WHERE rownum <=3\n",
    "\n",
    "            \n",
    "        \"\"\"\n",
    "temp = pd.read_sql(sql_code, engine)\n",
    "temp"
   ]
  }
 ],
 "metadata": {
  "colab": {
   "provenance": []
  },
  "kernelspec": {
   "display_name": "Python 3 (ipykernel)",
   "language": "python",
   "name": "python3"
  },
  "language_info": {
   "codemirror_mode": {
    "name": "ipython",
    "version": 3
   },
   "file_extension": ".py",
   "mimetype": "text/x-python",
   "name": "python",
   "nbconvert_exporter": "python",
   "pygments_lexer": "ipython3",
   "version": "3.10.9"
  }
 },
 "nbformat": 4,
 "nbformat_minor": 5
}
